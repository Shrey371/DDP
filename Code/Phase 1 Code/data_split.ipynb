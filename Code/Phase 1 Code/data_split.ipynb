{
 "cells": [
  {
   "cell_type": "code",
   "execution_count": 1,
   "id": "5bea9fd2-602e-459e-885f-a8d208eb5f78",
   "metadata": {},
   "outputs": [],
   "source": [
    "import pandas as pd\n",
    "import os"
   ]
  },
  {
   "cell_type": "code",
   "execution_count": 2,
   "id": "ea02b3d3-8a1a-4604-bd43-ededa1a6fd2f",
   "metadata": {},
   "outputs": [
    {
     "data": {
      "text/plain": [
       "'E:\\\\Intelehealth\\\\Code'"
      ]
     },
     "execution_count": 2,
     "metadata": {},
     "output_type": "execute_result"
    }
   ],
   "source": [
    "os.getcwd()"
   ]
  },
  {
   "cell_type": "code",
   "execution_count": 3,
   "id": "c2643a64-1465-4b89-a7ed-3f7c5db97205",
   "metadata": {},
   "outputs": [],
   "source": [
    "df0 = pd.read_excel('../India_95/India.xlsx',0)\n",
    "df1 = pd.read_excel('../India_95/India.xlsx',1)"
   ]
  },
  {
   "cell_type": "code",
   "execution_count": 4,
   "id": "f907da95-23b9-4233-90be-b173c350f399",
   "metadata": {},
   "outputs": [
    {
     "data": {
      "text/plain": [
       "array(['Number', 'Hgb', 'Gender', 'Age', 'Target', 'Note'], dtype=object)"
      ]
     },
     "execution_count": 4,
     "metadata": {},
     "output_type": "execute_result"
    }
   ],
   "source": [
    "df0.columns.values"
   ]
  },
  {
   "cell_type": "code",
   "execution_count": 5,
   "id": "dd733807-c50a-4de0-b849-29081f7acdec",
   "metadata": {},
   "outputs": [],
   "source": [
    "testing_0 = df0['Number'].sample(n=17,random_state=1)"
   ]
  },
  {
   "cell_type": "code",
   "execution_count": 6,
   "id": "ef629b85-5d9c-4aa6-9e45-16dd1eed42a4",
   "metadata": {},
   "outputs": [
    {
     "data": {
      "text/plain": [
       "30    58\n",
       "2      8\n",
       "26    51\n",
       "53    94\n",
       "35    67\n",
       "31    60\n",
       "48    89\n",
       "41    75\n",
       "32    62\n",
       "19    37\n",
       "47    88\n",
       "36    68\n",
       "10    24\n",
       "3      9\n",
       "40    73\n",
       "45    85\n",
       "51    92\n",
       "Name: Number, dtype: int64"
      ]
     },
     "execution_count": 6,
     "metadata": {},
     "output_type": "execute_result"
    }
   ],
   "source": [
    "testing_0"
   ]
  },
  {
   "cell_type": "code",
   "execution_count": 7,
   "id": "485016f9-8d7b-4d77-84eb-299bf980a5f6",
   "metadata": {},
   "outputs": [],
   "source": [
    "testing_1 = df1['Number'].sample(n=13,random_state=1)"
   ]
  },
  {
   "cell_type": "code",
   "execution_count": 8,
   "id": "dad73e09-59a4-412d-93dd-746854631db3",
   "metadata": {},
   "outputs": [
    {
     "data": {
      "text/plain": [
       "2      4\n",
       "31    70\n",
       "3      5\n",
       "21    46\n",
       "27    59\n",
       "29    63\n",
       "22    49\n",
       "39    86\n",
       "19    44\n",
       "26    57\n",
       "32    74\n",
       "17    40\n",
       "30    64\n",
       "Name: Number, dtype: int64"
      ]
     },
     "execution_count": 8,
     "metadata": {},
     "output_type": "execute_result"
    }
   ],
   "source": [
    "testing_1"
   ]
  },
  {
   "cell_type": "code",
   "execution_count": 11,
   "id": "a04f6e4e-5ee1-4b64-9de5-b7d947a21be1",
   "metadata": {},
   "outputs": [],
   "source": [
    "convert_dict = {\n",
    "    'Number' : int\n",
    "}"
   ]
  },
  {
   "cell_type": "code",
   "execution_count": 12,
   "id": "0bdc7fd9-9dd6-443c-b288-377bb8582bc0",
   "metadata": {},
   "outputs": [],
   "source": [
    "training_0 = df0[~df0.isin(testing_0)]['Number'].dropna()\n",
    "training_0 = training_0.astype(convert_dict)"
   ]
  },
  {
   "cell_type": "code",
   "execution_count": 13,
   "id": "009958bc-e8d7-4385-a2aa-b7eed3780eaa",
   "metadata": {},
   "outputs": [
    {
     "data": {
      "text/plain": [
       "0      1\n",
       "1      6\n",
       "4     10\n",
       "5     11\n",
       "6     17\n",
       "7     19\n",
       "8     20\n",
       "9     21\n",
       "11    27\n",
       "12    28\n",
       "13    29\n",
       "14    30\n",
       "15    31\n",
       "16    32\n",
       "17    33\n",
       "18    34\n",
       "20    38\n",
       "21    39\n",
       "22    41\n",
       "23    43\n",
       "24    47\n",
       "25    48\n",
       "27    52\n",
       "28    53\n",
       "29    54\n",
       "33    65\n",
       "34    66\n",
       "37    69\n",
       "38    71\n",
       "39    72\n",
       "42    79\n",
       "43    81\n",
       "44    83\n",
       "46    87\n",
       "49    90\n",
       "50    91\n",
       "52    93\n",
       "54    95\n",
       "Name: Number, dtype: int32"
      ]
     },
     "execution_count": 13,
     "metadata": {},
     "output_type": "execute_result"
    }
   ],
   "source": [
    "training_0"
   ]
  },
  {
   "cell_type": "code",
   "execution_count": 14,
   "id": "4c43dc1c-8b75-4075-9e06-82a53c15cbfc",
   "metadata": {},
   "outputs": [],
   "source": [
    "training_1 = df1[~df1.isin(testing_1)]['Number'].dropna()\n",
    "training_1 = training_1.astype(convert_dict)"
   ]
  },
  {
   "cell_type": "code",
   "execution_count": 15,
   "id": "76535ac8-4762-4c59-be3a-44ee3c1d9ef6",
   "metadata": {},
   "outputs": [
    {
     "data": {
      "text/plain": [
       "0      2\n",
       "1      3\n",
       "4      7\n",
       "5     12\n",
       "6     13\n",
       "7     14\n",
       "8     15\n",
       "9     16\n",
       "10    18\n",
       "11    22\n",
       "12    23\n",
       "13    25\n",
       "14    26\n",
       "15    35\n",
       "16    36\n",
       "18    42\n",
       "20    45\n",
       "23    50\n",
       "24    55\n",
       "25    56\n",
       "28    61\n",
       "33    76\n",
       "34    77\n",
       "35    78\n",
       "36    80\n",
       "37    82\n",
       "38    84\n",
       "Name: Number, dtype: int32"
      ]
     },
     "execution_count": 15,
     "metadata": {},
     "output_type": "execute_result"
    }
   ],
   "source": [
    "training_1"
   ]
  },
  {
   "cell_type": "code",
   "execution_count": null,
   "id": "4bd8a73d-d6dd-4895-8bbc-8a110a2a7c6f",
   "metadata": {},
   "outputs": [],
   "source": []
  }
 ],
 "metadata": {
  "kernelspec": {
   "display_name": "Python 3 (ipykernel)",
   "language": "python",
   "name": "python3"
  },
  "language_info": {
   "codemirror_mode": {
    "name": "ipython",
    "version": 3
   },
   "file_extension": ".py",
   "mimetype": "text/x-python",
   "name": "python",
   "nbconvert_exporter": "python",
   "pygments_lexer": "ipython3",
   "version": "3.9.18"
  }
 },
 "nbformat": 4,
 "nbformat_minor": 5
}
