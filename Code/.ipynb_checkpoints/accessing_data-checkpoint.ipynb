{
 "cells": [
  {
   "cell_type": "code",
   "execution_count": 1,
   "id": "ca2a15c0-a50d-4d95-94bf-ad4f1db4f4c9",
   "metadata": {},
   "outputs": [],
   "source": [
    "import os\n",
    "import cv2\n",
    "import matplotlib.pyplot as plt\n",
    "\n",
    "%matplotlib inline"
   ]
  },
  {
   "cell_type": "code",
   "execution_count": 2,
   "id": "e8d8e9e8-a776-49d4-8b32-b88ea385fc97",
   "metadata": {},
   "outputs": [
    {
     "data": {
      "text/plain": [
       "'E:\\\\Intelehealth\\\\Code'"
      ]
     },
     "execution_count": 2,
     "metadata": {},
     "output_type": "execute_result"
    }
   ],
   "source": [
    "os.getcwd()"
   ]
  },
  {
   "cell_type": "code",
   "execution_count": 3,
   "id": "c42fbc78-cd29-43bf-a6eb-bdcb5c77861f",
   "metadata": {
    "scrolled": true
   },
   "outputs": [
    {
     "data": {
      "text/plain": [
       "['4.png',\n",
       " '40.png',\n",
       " '44.png',\n",
       " '46.png',\n",
       " '49.png',\n",
       " '5.png',\n",
       " '57.png',\n",
       " '59.png',\n",
       " '63.png',\n",
       " '64.png',\n",
       " '70.png',\n",
       " '74.png',\n",
       " '86.png']"
      ]
     },
     "execution_count": 3,
     "metadata": {},
     "output_type": "execute_result"
    }
   ],
   "source": [
    "os.listdir('../India_95/testing_data_0.3/anemic_1/')"
   ]
  },
  {
   "cell_type": "code",
   "execution_count": 4,
   "id": "7ddf7560-fcd3-4fef-881d-872b542362bc",
   "metadata": {},
   "outputs": [],
   "source": [
    "training_0_list = os.listdir('../India_95/training_data_0.7/non_anemic_0/')\n",
    "training_1_list = os.listdir('../India_95/training_data_0.7/anemic_1/')\n",
    "testing_0_list = os.listdir('../India_95/testing_data_0.3/non_anemic_0/')\n",
    "testing_1_list = os.listdir('../India_95/testing_data_0.3/anemic_1/')"
   ]
  },
  {
   "cell_type": "code",
   "execution_count": 5,
   "id": "22494346-1961-405c-b17c-ef86a9d829e8",
   "metadata": {},
   "outputs": [],
   "source": [
    "training = []\n",
    "testing = []"
   ]
  },
  {
   "cell_type": "code",
   "execution_count": 30,
   "id": "c7bd9374-f89c-4893-ac26-cfb24eaac690",
   "metadata": {
    "scrolled": true
   },
   "outputs": [
    {
     "name": "stdout",
     "output_type": "stream",
     "text": [
      "['95.png', array([[[0, 0, 0],\n",
      "        [0, 0, 0],\n",
      "        [0, 0, 0],\n",
      "        ...,\n",
      "        [0, 0, 0],\n",
      "        [0, 0, 0],\n",
      "        [0, 0, 0]],\n",
      "\n",
      "       [[0, 0, 0],\n",
      "        [0, 0, 0],\n",
      "        [0, 0, 0],\n",
      "        ...,\n",
      "        [0, 0, 0],\n",
      "        [0, 0, 0],\n",
      "        [0, 0, 0]],\n",
      "\n",
      "       [[0, 0, 0],\n",
      "        [0, 0, 0],\n",
      "        [0, 0, 0],\n",
      "        ...,\n",
      "        [0, 0, 0],\n",
      "        [0, 0, 0],\n",
      "        [0, 0, 0]],\n",
      "\n",
      "       ...,\n",
      "\n",
      "       [[0, 0, 0],\n",
      "        [0, 0, 0],\n",
      "        [0, 0, 0],\n",
      "        ...,\n",
      "        [0, 0, 0],\n",
      "        [0, 0, 0],\n",
      "        [0, 0, 0]],\n",
      "\n",
      "       [[0, 0, 0],\n",
      "        [0, 0, 0],\n",
      "        [0, 0, 0],\n",
      "        ...,\n",
      "        [0, 0, 0],\n",
      "        [0, 0, 0],\n",
      "        [0, 0, 0]],\n",
      "\n",
      "       [[0, 0, 0],\n",
      "        [0, 0, 0],\n",
      "        [0, 0, 0],\n",
      "        ...,\n",
      "        [0, 0, 0],\n",
      "        [0, 0, 0],\n",
      "        [0, 0, 0]]], dtype=uint8), 0]\n"
     ]
    }
   ],
   "source": [
    "# for j in data[0]:\n",
    "#     print(j)\n",
    "# print(data[0])\n",
    "\n",
    "print(data)"
   ]
  },
  {
   "cell_type": "code",
   "execution_count": 11,
   "id": "7fc02b94-7db9-494e-a5d8-4f845891fd0d",
   "metadata": {
    "scrolled": true
   },
   "outputs": [],
   "source": [
    "# prac_path = path[0] + data[0][0]\n",
    "# image = cv2.imread(prac_path)\n",
    "# plt.imshow(image)"
   ]
  },
  {
   "cell_type": "code",
   "execution_count": 6,
   "id": "a66c7885-fa37-4243-9e7c-f402108a2da3",
   "metadata": {},
   "outputs": [
    {
     "data": {
      "text/plain": [
       "'E:\\\\Intelehealth\\\\Code'"
      ]
     },
     "execution_count": 6,
     "metadata": {},
     "output_type": "execute_result"
    }
   ],
   "source": [
    "os.getcwd()"
   ]
  },
  {
   "cell_type": "code",
   "execution_count": 31,
   "id": "13428d90-aee1-43f0-a799-decd90efde12",
   "metadata": {},
   "outputs": [],
   "source": [
    "training = []\n",
    "testing = []\n",
    "path = []\n",
    "path.append('../India_95/training_data_0.7/non_anemic_0/')\n",
    "path.append('../India_95/training_data_0.7/anemic_1/')\n",
    "path.append('../India_95/testing_data_0.3/non_anemic_0/')\n",
    "path.append( '../India_95/testing_data_0.3/anemic_1/')\n",
    "\n",
    "data = [training_0_list,training_1_list,testing_0_list,testing_1_list]\n",
    "for i in range(4):\n",
    "    curr_data,curr_path = data[i], path[i]\n",
    "    for j in curr_data:\n",
    "        filepath = curr_path + j\n",
    "        img = cv2.imread(filepath)        \n",
    "        img = cv2.cvtColor(img,cv2.COLOR_BGR2RGB)\n",
    "        label = i%2\n",
    "        data_input = [j,img,label]\n",
    "        if i==0 or i==1:\n",
    "            training.append(data_input)\n",
    "        else:\n",
    "            testing.append(data_input)"
   ]
  },
  {
   "cell_type": "code",
   "execution_count": 39,
   "id": "8e2ce124-7f4f-4872-82ad-8fa5a4cd66ff",
   "metadata": {},
   "outputs": [
    {
     "data": {
      "text/plain": [
       "1"
      ]
     },
     "execution_count": 39,
     "metadata": {},
     "output_type": "execute_result"
    }
   ],
   "source": [
    "training[50][2]"
   ]
  },
  {
   "cell_type": "code",
   "execution_count": 33,
   "id": "d647275f-c0cf-4b5e-9204-3bdb3c1dc089",
   "metadata": {},
   "outputs": [
    {
     "data": {
      "text/plain": [
       "30"
      ]
     },
     "execution_count": 33,
     "metadata": {},
     "output_type": "execute_result"
    }
   ],
   "source": [
    "len(testing)"
   ]
  },
  {
   "cell_type": "code",
   "execution_count": null,
   "id": "be8ef7c1-d17f-4c1f-99b5-ab97fe949379",
   "metadata": {},
   "outputs": [],
   "source": []
  },
  {
   "cell_type": "code",
   "execution_count": null,
   "id": "e1f16c5b-ca9f-4a82-ad0a-fbc334e31c91",
   "metadata": {},
   "outputs": [],
   "source": []
  },
  {
   "cell_type": "code",
   "execution_count": null,
   "id": "f63102f6-bcd0-42b1-a6a1-4d139325a015",
   "metadata": {},
   "outputs": [],
   "source": []
  },
  {
   "cell_type": "code",
   "execution_count": null,
   "id": "ae48d7b9-83bb-48fc-9221-eaeb5f492790",
   "metadata": {},
   "outputs": [],
   "source": []
  },
  {
   "cell_type": "code",
   "execution_count": 34,
   "id": "9d9d0794-a8c9-4b49-879d-2075af1635f9",
   "metadata": {},
   "outputs": [],
   "source": [
    "os.chdir('../India_95/testing_data_0.3/anemic_1/')"
   ]
  },
  {
   "cell_type": "code",
   "execution_count": 35,
   "id": "ba8bb3a5-8e40-473e-a9d5-830003e24c28",
   "metadata": {},
   "outputs": [
    {
     "data": {
      "text/plain": [
       "'E:\\\\Intelehealth\\\\India_95\\\\testing_data_0.3\\\\anemic_1'"
      ]
     },
     "execution_count": 35,
     "metadata": {},
     "output_type": "execute_result"
    }
   ],
   "source": [
    "os.getcwd()"
   ]
  },
  {
   "cell_type": "code",
   "execution_count": 47,
   "id": "d670821b-64fe-4765-92bb-8a0c5a06aad4",
   "metadata": {},
   "outputs": [],
   "source": [
    "for i in testing_1_list:\n",
    "    img = cv2.imread(i)\n",
    "    img = cv2.cvtColor(img,cv2.COLOR_BGR2RGB)\n",
    "    label = 1\n",
    "    data = [i.split('.')[0],img,label]\n",
    "    testing.append(data)\n",
    "# for i in testing_0_list:\n",
    "#     img = cv2.imread(i)\n",
    "#     label = 0\n",
    "#     data = [img,label]\n",
    "#     testing.append(data)"
   ]
  },
  {
   "cell_type": "code",
   "execution_count": 40,
   "id": "7ba8ae24-0070-436e-a91f-0217138a9394",
   "metadata": {},
   "outputs": [],
   "source": [
    "# plt.imshow(testing[10][0])"
   ]
  },
  {
   "cell_type": "code",
   "execution_count": null,
   "id": "bdd5aa75-649f-49e6-8a91-536dd80e8759",
   "metadata": {},
   "outputs": [],
   "source": []
  }
 ],
 "metadata": {
  "kernelspec": {
   "display_name": "Python 3 (ipykernel)",
   "language": "python",
   "name": "python3"
  },
  "language_info": {
   "codemirror_mode": {
    "name": "ipython",
    "version": 3
   },
   "file_extension": ".py",
   "mimetype": "text/x-python",
   "name": "python",
   "nbconvert_exporter": "python",
   "pygments_lexer": "ipython3",
   "version": "3.8.17"
  }
 },
 "nbformat": 4,
 "nbformat_minor": 5
}
