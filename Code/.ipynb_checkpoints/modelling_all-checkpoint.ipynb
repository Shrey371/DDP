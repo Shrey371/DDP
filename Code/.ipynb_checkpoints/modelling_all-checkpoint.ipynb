{
 "cells": [
  {
   "cell_type": "code",
   "execution_count": null,
   "id": "aa6d9820-fe5e-4bbd-8642-a259a06f2124",
   "metadata": {},
   "outputs": [],
   "source": [
    "# import os\n",
    "import pandas as pd\n",
    "# import cv2\n",
    "# import matplotlib.pyplot as plt\n",
    "import numpy as np\n",
    "# import math\n",
    "# import tensorflow as tf\n",
    "import pycaret\n",
    "\n",
    "# %matplotlib inline"
   ]
  },
  {
   "cell_type": "code",
   "execution_count": null,
   "id": "9f8e9c13-634e-4c8e-89ad-3ef006386b71",
   "metadata": {},
   "outputs": [],
   "source": [
    "print('PyCaret: %s' % pycaret.__version__)"
   ]
  },
  {
   "cell_type": "code",
   "execution_count": null,
   "id": "e6fdae6e-c7c1-4845-b5a1-d21a706b893e",
   "metadata": {},
   "outputs": [],
   "source": [
    "train=pd.read_csv('training.csv')\n",
    "test=pd.read_csv('testing.csv')\n",
    "data=pd.read_csv('total_data.csv')"
   ]
  },
  {
   "cell_type": "code",
   "execution_count": null,
   "id": "cba78df4-886e-45ad-a2a2-a3b081df5665",
   "metadata": {
    "scrolled": true
   },
   "outputs": [],
   "source": [
    "test.head()"
   ]
  },
  {
   "cell_type": "code",
   "execution_count": null,
   "id": "445021b1-609d-4448-983b-8bae70263d27",
   "metadata": {},
   "outputs": [],
   "source": [
    "data.shape"
   ]
  },
  {
   "cell_type": "code",
   "execution_count": null,
   "id": "764ac9fd-84fe-4886-9bd7-d2fc608790f0",
   "metadata": {
    "scrolled": true
   },
   "outputs": [],
   "source": [
    "data.drop('gender_actual',axis=1,inplace=True)\n",
    "data.head()"
   ]
  },
  {
   "cell_type": "markdown",
   "id": "c9f9f6e5-f3b5-471f-992f-52b2180fd754",
   "metadata": {},
   "source": [
    "# Classification"
   ]
  },
  {
   "cell_type": "code",
   "execution_count": null,
   "id": "0e59ef79-3f6b-473b-a37e-d7e6f6c73d50",
   "metadata": {},
   "outputs": [],
   "source": [
    "from pycaret.classification import *\n",
    "s = setup(data, target='label', ignore_features=['hgb','number'], preprocess=False, session_id=123)"
   ]
  },
  {
   "cell_type": "code",
   "execution_count": null,
   "id": "8f30146f-bee0-40cd-b1c7-c01bf4355283",
   "metadata": {},
   "outputs": [],
   "source": [
    "best_c = compare_models(sort = 'F1')"
   ]
  },
  {
   "cell_type": "code",
   "execution_count": null,
   "id": "8f48fc5e-3dd4-4801-b88e-d456611d7b8e",
   "metadata": {},
   "outputs": [],
   "source": [
    "print(best_c)"
   ]
  },
  {
   "cell_type": "code",
   "execution_count": null,
   "id": "b0a737ec-c947-460b-b76c-00b2a7a88a8b",
   "metadata": {},
   "outputs": [],
   "source": [
    "evaluate_model(best_c)"
   ]
  },
  {
   "cell_type": "code",
   "execution_count": null,
   "id": "c4320da8-a0e8-4933-bcea-4d2c58e1e394",
   "metadata": {
    "scrolled": true
   },
   "outputs": [],
   "source": [
    "predict_model(best_c)"
   ]
  },
  {
   "cell_type": "code",
   "execution_count": null,
   "id": "55825995-d730-44b5-82d7-e92b485bb2a9",
   "metadata": {
    "scrolled": true
   },
   "outputs": [],
   "source": [
    "# predict_model(best_c,data=test.drop(['hgb','number'],axis=1))"
   ]
  },
  {
   "cell_type": "code",
   "execution_count": null,
   "id": "e26ae102-5b5c-43b7-859b-542355620b57",
   "metadata": {
    "scrolled": true
   },
   "outputs": [],
   "source": [
    "#predict_model(best_c,data=train.drop(['hgb','number'],axis=1))"
   ]
  },
  {
   "cell_type": "code",
   "execution_count": null,
   "id": "39e2be48-d1af-43a2-a677-1312021ce898",
   "metadata": {},
   "outputs": [],
   "source": [
    "predict = predict_model(best_c)\n",
    "actual = (predict['label']==1).tolist()\n",
    "predicted = (predict['prediction_label']==1).tolist()"
   ]
  },
  {
   "cell_type": "code",
   "execution_count": null,
   "id": "626f680e-d1ce-4c16-b3e1-3e0b97c8f522",
   "metadata": {},
   "outputs": [],
   "source": [
    "TP=TN=FN=FP = 0\n",
    "for i in range(len(actual)):\n",
    "    if(actual[i]==True and predicted[i]==True):\n",
    "        TP +=1\n",
    "    if(actual[i]==False and predicted[i]==False):\n",
    "        TN +=1\n",
    "    if(actual[i]==True and predicted[i]==False):\n",
    "        FN +=1\n",
    "    if(actual[i]==False and predicted[i]==True):\n",
    "        FP +=1\n",
    "\n",
    "print(f\"Accuracy = {(TP+TN)/(TP+TN+FP+FN)}\")\n",
    "print(f\"Precision = {(TP)/(TP+FP)}\")\n",
    "print(f\"Sensitivity = {(TP)/(TP+FN)}\")\n",
    "print(f\"Specificity = {(TN)/(TN+FP)}\")"
   ]
  },
  {
   "cell_type": "markdown",
   "id": "2bf4f2ad-24f7-4f74-92d1-1fafee748ba8",
   "metadata": {},
   "source": [
    "## Tuning"
   ]
  },
  {
   "cell_type": "code",
   "execution_count": null,
   "id": "910229f1-6845-439a-99a0-15caa3f1cbc0",
   "metadata": {},
   "outputs": [],
   "source": [
    "# params = {\"max_depth\": np.random.randint(1, (len(data.columns)*.85),20),\n",
    "#           \"max_features\": np.random.randint(1, len(data.columns),20),\n",
    "#           \"min_samples_leaf\": [2,3,4,5,6]}"
   ]
  },
  {
   "cell_type": "code",
   "execution_count": null,
   "id": "cae90191-9d17-430b-a29e-b96f58d2e9e2",
   "metadata": {},
   "outputs": [],
   "source": [
    "tuned_dt = tune_model(best_c, fold = 10, n_iter = 500, choose_better = True)"
   ]
  },
  {
   "cell_type": "code",
   "execution_count": null,
   "id": "9babb0f6-5a78-4f85-b609-06e3a216fe6a",
   "metadata": {},
   "outputs": [],
   "source": [
    "print(tuned_dt)"
   ]
  },
  {
   "cell_type": "code",
   "execution_count": null,
   "id": "299586dc-950a-47c4-a443-ea6d59497234",
   "metadata": {},
   "outputs": [],
   "source": [
    "evaluate_model(tuned_dt)"
   ]
  },
  {
   "cell_type": "code",
   "execution_count": null,
   "id": "e269e5f5-9271-44f9-85d3-67ec422908b0",
   "metadata": {
    "scrolled": true
   },
   "outputs": [],
   "source": [
    "predict_model(tuned_dt)"
   ]
  },
  {
   "cell_type": "code",
   "execution_count": null,
   "id": "5514e962-908c-47fe-8523-ef4b451ddca1",
   "metadata": {},
   "outputs": [],
   "source": [
    "tuned_predict = predict_model(tuned_dt)\n",
    "actual_tuned = (tuned_predict['label']==1).tolist()\n",
    "predicted_tuned = (tuned_predict['prediction_label']==1).tolist()"
   ]
  },
  {
   "cell_type": "code",
   "execution_count": null,
   "id": "becb0ae4-3389-42be-9bcc-ea3aa0189705",
   "metadata": {},
   "outputs": [],
   "source": [
    "TP=TN=FN=FP = 0\n",
    "for i in range(len(actual_tuned)):\n",
    "    if(actual_tuned[i]==True and predicted_tuned[i]==True):\n",
    "        TP +=1\n",
    "    if(actual_tuned[i]==False and predicted_tuned[i]==False):\n",
    "        TN +=1\n",
    "    if(actual_tuned[i]==True and predicted_tuned[i]==False):\n",
    "        FN +=1\n",
    "    if(actual_tuned[i]==False and predicted_tuned[i]==True):\n",
    "        FP +=1\n",
    "\n",
    "print(f\"Accuracy = {(TP+TN)/(TP+TN+FP+FN)}\")\n",
    "print(f\"Precision = {(TP)/(TP+FP)}\")\n",
    "print(f\"Sensitivity = {(TP)/(TP+FN)}\")\n",
    "print(f\"Specificity = {(TN)/(TN+FP)}\")"
   ]
  },
  {
   "cell_type": "markdown",
   "id": "c0d3e4f2-28d2-4566-8c09-0638c9a8326b",
   "metadata": {},
   "source": [
    "# Regression"
   ]
  },
  {
   "cell_type": "code",
   "execution_count": null,
   "id": "905c9d05-457e-4d7f-b537-e74f166b9a88",
   "metadata": {},
   "outputs": [],
   "source": [
    "from pycaret.regression import *\n",
    "s = setup(data, target='hgb', ignore_features=['label','number'], preprocess=False, session_id=123)"
   ]
  },
  {
   "cell_type": "code",
   "execution_count": null,
   "id": "64190852-6758-499a-b299-349c3d4ca7e2",
   "metadata": {},
   "outputs": [],
   "source": [
    "best_r = compare_models()"
   ]
  },
  {
   "cell_type": "code",
   "execution_count": null,
   "id": "e6b9826b-59e4-471f-9cd0-279b6276240f",
   "metadata": {},
   "outputs": [],
   "source": [
    "print(best_r)"
   ]
  },
  {
   "cell_type": "code",
   "execution_count": null,
   "id": "d99d5fee-f4e2-4a11-a1eb-6886a980680c",
   "metadata": {},
   "outputs": [],
   "source": [
    "evaluate_model(best_r)"
   ]
  },
  {
   "cell_type": "code",
   "execution_count": null,
   "id": "905f58f1-c9ec-4450-99df-c3f1e9dd19b7",
   "metadata": {
    "scrolled": true
   },
   "outputs": [],
   "source": [
    "predict_model(best_r)"
   ]
  },
  {
   "cell_type": "code",
   "execution_count": null,
   "id": "fbd49c3e-e065-4b55-b221-879279b84645",
   "metadata": {
    "scrolled": true
   },
   "outputs": [],
   "source": [
    "predict_model(best_r,data=test.drop(['label','number'],axis=1))"
   ]
  },
  {
   "cell_type": "code",
   "execution_count": null,
   "id": "400c383b-ec11-464e-99ea-fba9c437b66c",
   "metadata": {},
   "outputs": [],
   "source": [
    "predict_model(best_r,data=train.drop(['label','number'],axis=1))"
   ]
  },
  {
   "cell_type": "markdown",
   "id": "d125720b-43d8-48ad-a7a8-29b8a14fd11f",
   "metadata": {},
   "source": [
    "## Tuning"
   ]
  },
  {
   "cell_type": "code",
   "execution_count": null,
   "id": "e00910b8-b9cb-4bb0-92a6-4951ecb911c8",
   "metadata": {
    "scrolled": true
   },
   "outputs": [],
   "source": [
    "tuned_catboost = tune_model(best_r, fold = 10, n_iter = 50)"
   ]
  },
  {
   "cell_type": "code",
   "execution_count": null,
   "id": "e2d1dc21-983b-44ee-bc38-289886aa9bff",
   "metadata": {},
   "outputs": [],
   "source": [
    "evaluate_model(tuned_catboost)"
   ]
  },
  {
   "cell_type": "code",
   "execution_count": null,
   "id": "fbafd3e4-fc69-402a-9e11-d857aece5654",
   "metadata": {
    "scrolled": true
   },
   "outputs": [],
   "source": [
    "predict_model(tuned_catboost)"
   ]
  },
  {
   "cell_type": "markdown",
   "id": "c5901bdd-a6be-4aa0-a5e3-28038c5670bc",
   "metadata": {},
   "source": [
    "# Regression to Classification\n",
    "\n",
    "--> <11.0 --> Anemic\n",
    "\n",
    "--> >=11.0 ---> Non-Anemic "
   ]
  },
  {
   "cell_type": "code",
   "execution_count": null,
   "id": "372a67e7-0f0d-495b-9155-cc45a2c2353f",
   "metadata": {},
   "outputs": [],
   "source": [
    "tuned_predict = predict_model(tuned_catboost)"
   ]
  },
  {
   "cell_type": "code",
   "execution_count": null,
   "id": "06e0d505-d005-4de2-abdf-198cc6ceb8f9",
   "metadata": {},
   "outputs": [],
   "source": [
    "tuned_predict.columns.values"
   ]
  },
  {
   "cell_type": "code",
   "execution_count": null,
   "id": "ad17d7fb-d1f0-4a30-9691-feca80a615e8",
   "metadata": {
    "scrolled": true
   },
   "outputs": [],
   "source": [
    "actual_tuned = (tuned_predict['hgb']<11.0).tolist()\n",
    "predicted_tuned = (tuned_predict['prediction_label']<11.0).tolist()"
   ]
  },
  {
   "cell_type": "code",
   "execution_count": null,
   "id": "ee8f435a-19e2-4780-b375-eee71eae6c2f",
   "metadata": {},
   "outputs": [],
   "source": [
    "preditct = predict_model(best_r)"
   ]
  },
  {
   "cell_type": "code",
   "execution_count": null,
   "id": "e0fffea5-07a5-4098-8c20-03774c7b866e",
   "metadata": {},
   "outputs": [],
   "source": [
    "preditct.columns.values"
   ]
  },
  {
   "cell_type": "code",
   "execution_count": null,
   "id": "5ae46da4-f028-40d3-9e39-69df18f86ccf",
   "metadata": {},
   "outputs": [],
   "source": [
    "actual = (preditct['hgb']<11.0).tolist()\n",
    "predicted = (preditct['prediction_label']<11.0).tolist()"
   ]
  },
  {
   "cell_type": "markdown",
   "id": "9aa62a61-bae5-46dd-be96-d78a2aea3fec",
   "metadata": {},
   "source": [
    "## Before Tuning"
   ]
  },
  {
   "cell_type": "code",
   "execution_count": null,
   "id": "93f2b7f5-a642-4b47-a469-668bbfd65462",
   "metadata": {},
   "outputs": [],
   "source": [
    "TP=TN=FN=FP = 0\n",
    "for i in range(len(actual)):\n",
    "    if(actual[i]==True and predicted[i]==True):\n",
    "        TP +=1\n",
    "    if(actual[i]==False and predicted[i]==False):\n",
    "        TN +=1\n",
    "    if(actual[i]==True and predicted[i]==False):\n",
    "        FN +=1\n",
    "    if(actual[i]==False and predicted[i]==True):\n",
    "        FP +=1\n",
    "\n",
    "print(f\"Accuracy = {(TP+TN)/(TP+TN+FP+FN)}\")\n",
    "print(f\"Precision = {(TP)/(TP+FP)}\")\n",
    "print(f\"Sensitivity = {(TP)/(TP+FN)}\")\n",
    "print(f\"Specificity = {(TN)/(TN+FP)}\")"
   ]
  },
  {
   "cell_type": "markdown",
   "id": "6d22408f-75e0-4158-a0c7-1f8991071ead",
   "metadata": {},
   "source": [
    "## After Tuning"
   ]
  },
  {
   "cell_type": "code",
   "execution_count": null,
   "id": "ff0213dc-270d-4cb4-a0b6-32d650377a54",
   "metadata": {},
   "outputs": [],
   "source": [
    "TP=TN=FN=FP = 0\n",
    "for i in range(len(actual_tuned)):\n",
    "    if(actual_tuned[i]==True and predicted_tuned[i]==True):\n",
    "        TP +=1\n",
    "    if(actual_tuned[i]==False and predicted_tuned[i]==False):\n",
    "        TN +=1\n",
    "    if(actual_tuned[i]==True and predicted_tuned[i]==False):\n",
    "        FN +=1\n",
    "    if(actual_tuned[i]==False and predicted_tuned[i]==True):\n",
    "        FP +=1\n",
    "\n",
    "print(f\"Accuracy = {(TP+TN)/(TP+TN+FP+FN)}\")\n",
    "print(f\"Precision = {(TP)/(TP+FP)}\")\n",
    "print(f\"Sensitivity = {(TP)/(TP+FN)}\")\n",
    "print(f\"Specificity = {(TN)/(TN+FP)}\")"
   ]
  },
  {
   "cell_type": "code",
   "execution_count": null,
   "id": "530412e6-0ac4-43a5-b373-875f1cd82aa2",
   "metadata": {},
   "outputs": [],
   "source": []
  }
 ],
 "metadata": {
  "kernelspec": {
   "display_name": "Python 3 (ipykernel)",
   "language": "python",
   "name": "python3"
  },
  "language_info": {
   "codemirror_mode": {
    "name": "ipython",
    "version": 3
   },
   "file_extension": ".py",
   "mimetype": "text/x-python",
   "name": "python",
   "nbconvert_exporter": "python",
   "pygments_lexer": "ipython3",
   "version": "3.9.18"
  }
 },
 "nbformat": 4,
 "nbformat_minor": 5
}
