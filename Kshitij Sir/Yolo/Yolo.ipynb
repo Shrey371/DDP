{
 "cells": [
  {
   "cell_type": "markdown",
   "id": "89ccfc0e-706f-4df8-aa60-7b3dd9efafe0",
   "metadata": {},
   "source": [
    "# https://docs.ultralytics.com/tasks/segment/"
   ]
  },
  {
   "cell_type": "code",
   "execution_count": 1,
   "id": "f63c83b9-81fb-4118-8009-267b84c8fe91",
   "metadata": {},
   "outputs": [],
   "source": [
    "from ultralytics import YOLO"
   ]
  },
  {
   "cell_type": "code",
   "execution_count": 2,
   "id": "25a0ca63-5f72-413d-bc1a-e1d5fcc9f5b0",
   "metadata": {},
   "outputs": [],
   "source": [
    "model = YOLO('yolov8n-seg.pt')  # load a pretrained model"
   ]
  },
  {
   "cell_type": "code",
   "execution_count": 1,
   "id": "8faf931f-d60c-4fc6-8270-668801ddded8",
   "metadata": {},
   "outputs": [],
   "source": [
    "# results = model.train(data='coco128-seg.yaml', epochs=100, imgsz=640)"
   ]
  },
  {
   "cell_type": "code",
   "execution_count": 15,
   "id": "b0458789-7ffc-495d-bee0-dddbb4a91f3b",
   "metadata": {},
   "outputs": [],
   "source": [
    "# model.train(epochs=2)"
   ]
  },
  {
   "cell_type": "code",
   "execution_count": 3,
   "id": "fa0da8e0-36e2-44dd-9c5d-5a9295af894c",
   "metadata": {},
   "outputs": [],
   "source": [
    "import warnings\n",
    "warnings.filterwarnings('ignore')\n",
    "\n",
    "import pandas as pd\n",
    "from PIL import Image, ImageFile\n",
    "ImageFile.LOAD_TRUNCATED_IMAGES = True\n",
    "import torch\n",
    "import torch.nn as nn\n",
    "import torchvision.models as models\n",
    "import torchvision.transforms as transforms\n",
    "# from torchvision import transforms\n",
    "import os\n",
    "import glob\n",
    "import torch\n",
    "import cv2\n",
    "import matplotlib.pyplot as plt\n",
    "\n",
    "%matplotlib inline"
   ]
  },
  {
   "cell_type": "code",
   "execution_count": 4,
   "id": "effc9fde-30ed-4b0d-98b8-934771c007c7",
   "metadata": {},
   "outputs": [],
   "source": [
    "# training = \"../../India_95/training\"\n",
    "# testing = \"../../India_95/testing\"\n",
    "# all_data = \"../../India_95/All\"\n",
    "\n",
    "\n",
    "# training_img = glob.glob(f\"{training}/*.png\")\n",
    "# testing_img = glob.glob(f\"{testing}/*.png\")\n",
    "# all_img = sorted(glob.glob(f\"{all_data}/*.png\"))"
   ]
  },
  {
   "cell_type": "code",
   "execution_count": 4,
   "id": "3743382d-1b86-4639-8653-b84ad124f03b",
   "metadata": {},
   "outputs": [
    {
     "data": {
      "text/plain": [
       "'/home/shreygupta/Desktop/Intelehealth/Kshitij Sir/Yolo'"
      ]
     },
     "execution_count": 4,
     "metadata": {},
     "output_type": "execute_result"
    }
   ],
   "source": [
    "os.getcwd()"
   ]
  },
  {
   "cell_type": "code",
   "execution_count": 5,
   "id": "f9162932-e33c-4035-b96f-509959cbcd65",
   "metadata": {},
   "outputs": [
    {
     "data": {
      "text/plain": [
       "'../../India_95/Anemic/13/20200203_190841.jpg'"
      ]
     },
     "execution_count": 5,
     "metadata": {},
     "output_type": "execute_result"
    }
   ],
   "source": [
    "sample_filename = \"../../India_95/Anemic/13/20200203_190841.jpg\"\n",
    "sample_filename"
   ]
  },
  {
   "cell_type": "code",
   "execution_count": 6,
   "id": "c851a257-e371-4573-a5cb-7472d7f92469",
   "metadata": {},
   "outputs": [],
   "source": [
    "sample_img = Image.open(sample_filename)\n",
    "# sample_rgb = sample_img.convert('RGB')"
   ]
  },
  {
   "cell_type": "code",
   "execution_count": 33,
   "id": "c818c815-5f65-45a2-aede-992f2d4b07e6",
   "metadata": {},
   "outputs": [],
   "source": [
    "# sample_img.load()\n",
    "# background = Image.new(\"RGB\", sample_img.size, (255, 255, 255))\n",
    "# background.paste(sample_img, mask = sample_img.split()[3])"
   ]
  },
  {
   "cell_type": "code",
   "execution_count": 7,
   "id": "711b6537-e75a-4ed1-9c25-1ac4a82d155c",
   "metadata": {},
   "outputs": [
    {
     "name": "stdout",
     "output_type": "stream",
     "text": [
      "\n",
      "0: 480x640 1 donut, 69.9ms\n",
      "Speed: 2.1ms preprocess, 69.9ms inference, 186.5ms postprocess per image at shape (1, 3, 480, 640)\n"
     ]
    }
   ],
   "source": [
    "results = model(sample_img)"
   ]
  },
  {
   "cell_type": "code",
   "execution_count": 13,
   "id": "2e4540fb-f131-4bc0-aaf0-fd6f68c824f4",
   "metadata": {},
   "outputs": [
    {
     "data": {
      "text/plain": [
       "[ultralytics.engine.results.Results object with attributes:\n",
       " \n",
       " boxes: ultralytics.engine.results.Boxes object\n",
       " keypoints: None\n",
       " masks: ultralytics.engine.results.Masks object\n",
       " names: {0: 'person', 1: 'bicycle', 2: 'car', 3: 'motorcycle', 4: 'airplane', 5: 'bus', 6: 'train', 7: 'truck', 8: 'boat', 9: 'traffic light', 10: 'fire hydrant', 11: 'stop sign', 12: 'parking meter', 13: 'bench', 14: 'bird', 15: 'cat', 16: 'dog', 17: 'horse', 18: 'sheep', 19: 'cow', 20: 'elephant', 21: 'bear', 22: 'zebra', 23: 'giraffe', 24: 'backpack', 25: 'umbrella', 26: 'handbag', 27: 'tie', 28: 'suitcase', 29: 'frisbee', 30: 'skis', 31: 'snowboard', 32: 'sports ball', 33: 'kite', 34: 'baseball bat', 35: 'baseball glove', 36: 'skateboard', 37: 'surfboard', 38: 'tennis racket', 39: 'bottle', 40: 'wine glass', 41: 'cup', 42: 'fork', 43: 'knife', 44: 'spoon', 45: 'bowl', 46: 'banana', 47: 'apple', 48: 'sandwich', 49: 'orange', 50: 'broccoli', 51: 'carrot', 52: 'hot dog', 53: 'pizza', 54: 'donut', 55: 'cake', 56: 'chair', 57: 'couch', 58: 'potted plant', 59: 'bed', 60: 'dining table', 61: 'toilet', 62: 'tv', 63: 'laptop', 64: 'mouse', 65: 'remote', 66: 'keyboard', 67: 'cell phone', 68: 'microwave', 69: 'oven', 70: 'toaster', 71: 'sink', 72: 'refrigerator', 73: 'book', 74: 'clock', 75: 'vase', 76: 'scissors', 77: 'teddy bear', 78: 'hair drier', 79: 'toothbrush'}\n",
       " obb: None\n",
       " orig_img: array([[[ 35,  19,  13],\n",
       "         [ 40,  24,  18],\n",
       "         [ 41,  25,  19],\n",
       "         ...,\n",
       "         [209, 173, 149],\n",
       "         [211, 176, 150],\n",
       "         [209, 174, 148]],\n",
       " \n",
       "        [[ 37,  21,  15],\n",
       "         [ 38,  22,  16],\n",
       "         [ 40,  24,  18],\n",
       "         ...,\n",
       "         [210, 174, 150],\n",
       "         [211, 176, 150],\n",
       "         [210, 175, 149]],\n",
       " \n",
       "        [[ 37,  20,  17],\n",
       "         [ 39,  22,  19],\n",
       "         [ 39,  22,  19],\n",
       "         ...,\n",
       "         [209, 173, 149],\n",
       "         [209, 174, 148],\n",
       "         [209, 174, 148]],\n",
       " \n",
       "        ...,\n",
       " \n",
       "        [[ 42,  31,  39],\n",
       "         [ 41,  30,  38],\n",
       "         [ 42,  31,  39],\n",
       "         ...,\n",
       "         [254, 229, 213],\n",
       "         [255, 230, 214],\n",
       "         [254, 229, 213]],\n",
       " \n",
       "        [[ 48,  37,  45],\n",
       "         [ 43,  32,  40],\n",
       "         [ 43,  32,  40],\n",
       "         ...,\n",
       "         [254, 229, 213],\n",
       "         [255, 230, 214],\n",
       "         [254, 229, 213]],\n",
       " \n",
       "        [[ 50,  39,  47],\n",
       "         [ 45,  34,  42],\n",
       "         [ 43,  32,  40],\n",
       "         ...,\n",
       "         [254, 229, 213],\n",
       "         [255, 230, 214],\n",
       "         [254, 229, 213]]], dtype=uint8)\n",
       " orig_shape: (2988, 3984)\n",
       " path: '../../India_95/Anemic/13/20200203_190841.jpg'\n",
       " probs: None\n",
       " save_dir: None\n",
       " speed: {'preprocess': 2.0933151245117188, 'inference': 69.90790367126465, 'postprocess': 186.49673461914062}]"
      ]
     },
     "execution_count": 13,
     "metadata": {},
     "output_type": "execute_result"
    }
   ],
   "source": [
    "results"
   ]
  },
  {
   "cell_type": "code",
   "execution_count": null,
   "id": "dd149023-e038-482f-961c-0f495c8cc229",
   "metadata": {},
   "outputs": [],
   "source": []
  }
 ],
 "metadata": {
  "kernelspec": {
   "display_name": "Python 3 (ipykernel)",
   "language": "python",
   "name": "python3"
  },
  "language_info": {
   "codemirror_mode": {
    "name": "ipython",
    "version": 3
   },
   "file_extension": ".py",
   "mimetype": "text/x-python",
   "name": "python",
   "nbconvert_exporter": "python",
   "pygments_lexer": "ipython3",
   "version": "3.10.13"
  }
 },
 "nbformat": 4,
 "nbformat_minor": 5
}
