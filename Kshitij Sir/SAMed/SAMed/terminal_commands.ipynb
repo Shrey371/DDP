{
 "cells": [
  {
   "cell_type": "markdown",
   "id": "cf34d0cf-7595-4c10-91f8-270c9d8c6cdf",
   "metadata": {},
   "source": [
    "# terminal command"
   ]
  },
  {
   "cell_type": "markdown",
   "id": "34fa38d1-4332-436e-85d3-3c13ae50637f",
   "metadata": {},
   "source": [
    "## TYPE 1 (LoRA)\n",
    "\n",
    "DURING LORA I CHANGED THE SAM_LORA_IMAGE_ENCODER.py ---> sam_model=sam_model[0]"
   ]
  },
  {
   "cell_type": "raw",
   "id": "d63d3321-b54b-45ff-8406-6eac3fed4a5c",
   "metadata": {},
   "source": [
    "python3\n",
    "\n",
    "from segment_anything import build_sam, SamPredictor\n",
    "from segment_anything import sam_model_registry\n",
    "from sam_lora_image_encoder import LoRA_Sam\n",
    "\n",
    "sam = sam_model_registry[\"vit_b\"](image_size=1024,num_classes=1,checkpoint=\"checkpoints/sam_vit_b_01ec64.pth\")\n",
    "\n",
    "lora_custom = LoRA_Sam(sam,4)\n",
    "\n",
    "lora_custom.save_lora_parameters(\"custom_checkpoint.pth\")"
   ]
  },
  {
   "cell_type": "markdown",
   "id": "c87da424-f96c-4c34-9bb9-114b9472aa93",
   "metadata": {},
   "source": [
    "## TYPE 2 (LoRA)"
   ]
  },
  {
   "cell_type": "raw",
   "id": "3b7baa8c-529b-4e72-a51d-913d58108855",
   "metadata": {},
   "source": [
    "python3 sam_lora_image_encoder.py"
   ]
  },
  {
   "cell_type": "markdown",
   "id": "cfa0aeaa-11e5-4eab-91a9-83126273a522",
   "metadata": {},
   "source": [
    "## TESTING\n",
    "\n",
    "WHILE TESTING UNDO THE CHANGE IN SAM_LORA_IMAGE_ENCODER.py"
   ]
  },
  {
   "cell_type": "raw",
   "id": "5993b7ca-64a5-4cfe-bc4f-49e5a132492c",
   "metadata": {},
   "source": [
    "python3 test.py --volume_path ../ChestX-Ray/preprocessed_data/test_vol_h5/ --num_classes 1 --img_size 1024 --is_savenii --output_dir output --lora_ckpt custom_checkpoint.pth --list_dir lists/lists_ChestX-Ray/"
   ]
  },
  {
   "cell_type": "markdown",
   "id": "5b6a4142-f361-4975-9cf1-d1a7a451432c",
   "metadata": {},
   "source": [
    "# TRAINING"
   ]
  },
  {
   "cell_type": "raw",
   "id": "7293057c-68b7-4970-b79f-bbfbc23097b5",
   "metadata": {},
   "source": [
    "CUDA_LAUNCH_BLOCKING=1 python3 train.py --root_path ../ChestX-Ray/data/preprocess_train_GRAY_128/ --output output/train_sam/result5 --dataset ChestX-Ray --list_dir lists/lists_ChestX-Ray --num_classes 1 --max_epochs 2 --n_gpu 1 --img_size 128 --warmup --AdamW"
   ]
  },
  {
   "cell_type": "raw",
   "id": "f98540bf-acd8-4b9e-88ca-c1417ca7b540",
   "metadata": {},
   "source": [
    "--lora_ckpt custom_checkpoint.pth"
   ]
  },
  {
   "cell_type": "raw",
   "id": "a0698aa8-4a53-4e42-972f-32670401cf93",
   "metadata": {},
   "source": []
  },
  {
   "cell_type": "raw",
   "id": "bef63f97-3842-4160-ac4a-40d78f9b4b98",
   "metadata": {},
   "source": []
  }
 ],
 "metadata": {
  "kernelspec": {
   "display_name": "Python 3 (ipykernel)",
   "language": "python",
   "name": "python3"
  },
  "language_info": {
   "codemirror_mode": {
    "name": "ipython",
    "version": 3
   },
   "file_extension": ".py",
   "mimetype": "text/x-python",
   "name": "python",
   "nbconvert_exporter": "python",
   "pygments_lexer": "ipython3",
   "version": "3.9.18"
  }
 },
 "nbformat": 4,
 "nbformat_minor": 5
}
