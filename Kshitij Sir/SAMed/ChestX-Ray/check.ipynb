{
 "cells": [
  {
   "cell_type": "code",
   "execution_count": 3,
   "id": "31e78f84-85d1-450c-86c3-5714f1f9aec0",
   "metadata": {},
   "outputs": [],
   "source": [
    "import os\n",
    "import time\n",
    "import argparse\n",
    "from glob import glob\n",
    "\n",
    "from PIL import Image\n",
    "from numpy import asarray\n",
    "\n",
    "import h5py\n",
    "import nibabel as nib\n",
    "from PIL import Image\n",
    "import numpy as np\n",
    "from tqdm import tqdm\n",
    "from icecream import ic"
   ]
  },
  {
   "cell_type": "code",
   "execution_count": 2,
   "id": "484ef63d-aee4-46da-880a-0e1454f1eded",
   "metadata": {},
   "outputs": [],
   "source": [
    "img = 'images/00000013_026.png'"
   ]
  },
  {
   "cell_type": "code",
   "execution_count": 4,
   "id": "adbac7f3-5e7d-459d-a930-32c1bb9e7373",
   "metadata": {},
   "outputs": [],
   "source": [
    "image_data = asarray(Image.open(img))"
   ]
  },
  {
   "cell_type": "code",
   "execution_count": 5,
   "id": "af508f5e-8762-4890-9a75-148f2138afb4",
   "metadata": {},
   "outputs": [],
   "source": [
    "image_data = image_data.astype(np.float32)"
   ]
  },
  {
   "cell_type": "code",
   "execution_count": 6,
   "id": "ab862259-52ac-4332-96f3-70701a244409",
   "metadata": {},
   "outputs": [
    {
     "data": {
      "text/plain": [
       "(1024, 1024)"
      ]
     },
     "execution_count": 6,
     "metadata": {},
     "output_type": "execute_result"
    }
   ],
   "source": [
    "image_data.shape"
   ]
  },
  {
   "cell_type": "code",
   "execution_count": 7,
   "id": "fafaab47-1d7f-4232-a61e-441aa4d4fc11",
   "metadata": {},
   "outputs": [],
   "source": [
    "img2 = '../SAMed/Synapse/try2/slice_1_DET0000101.png'"
   ]
  },
  {
   "cell_type": "code",
   "execution_count": 8,
   "id": "317d8385-932c-4462-96fe-6dba13d87382",
   "metadata": {},
   "outputs": [],
   "source": [
    "image_data = asarray(Image.open(img))"
   ]
  },
  {
   "cell_type": "code",
   "execution_count": 9,
   "id": "ade2ba89-1855-4368-b077-241d33b8e781",
   "metadata": {},
   "outputs": [],
   "source": [
    "image_data = image_data.astype(np.float32)"
   ]
  },
  {
   "cell_type": "code",
   "execution_count": 10,
   "id": "6508f758-751c-4736-af87-7ff2550bc7d7",
   "metadata": {},
   "outputs": [
    {
     "data": {
      "text/plain": [
       "(1024, 1024)"
      ]
     },
     "execution_count": 10,
     "metadata": {},
     "output_type": "execute_result"
    }
   ],
   "source": [
    "image_data.shape"
   ]
  },
  {
   "cell_type": "code",
   "execution_count": null,
   "id": "4afec37c-e8cc-42e7-a349-0861a38d8747",
   "metadata": {},
   "outputs": [],
   "source": [
    "python test.py --volume_path test_vol_h5 --output_dir results --ckpt sam_vit_b_01ec64.pth --lora_ckpt epoch_159.pth"
   ]
  }
 ],
 "metadata": {
  "kernelspec": {
   "display_name": "Python 3 (ipykernel)",
   "language": "python",
   "name": "python3"
  },
  "language_info": {
   "codemirror_mode": {
    "name": "ipython",
    "version": 3
   },
   "file_extension": ".py",
   "mimetype": "text/x-python",
   "name": "python",
   "nbconvert_exporter": "python",
   "pygments_lexer": "ipython3",
   "version": "3.9.18"
  }
 },
 "nbformat": 4,
 "nbformat_minor": 5
}
