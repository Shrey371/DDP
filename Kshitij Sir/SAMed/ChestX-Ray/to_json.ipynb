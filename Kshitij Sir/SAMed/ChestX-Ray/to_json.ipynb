{
 "cells": [
  {
   "cell_type": "code",
   "execution_count": 1,
   "id": "2eaa70f1-3476-4328-8d68-1155726c4192",
   "metadata": {},
   "outputs": [],
   "source": [
    "import warnings\n",
    "warnings.filterwarnings('ignore')\n",
    "\n",
    "import pandas as pd\n",
    "import numpy as np\n",
    "from pycocotools import mask, coco\n",
    "import matplotlib.pyplot as plt\n",
    "import json\n",
    "\n",
    "%matplotlib inline"
   ]
  },
  {
   "cell_type": "code",
   "execution_count": 2,
   "id": "810412f6-1915-4f22-80dc-8dbfe1f0a288",
   "metadata": {},
   "outputs": [],
   "source": [
    "df = pd.read_csv(\"sample_heart.csv\")"
   ]
  },
  {
   "cell_type": "code",
   "execution_count": 3,
   "id": "7e4c6b1f-0bfe-4b47-b8d9-4afe89581685",
   "metadata": {},
   "outputs": [
    {
     "data": {
      "text/html": [
       "<div>\n",
       "<style scoped>\n",
       "    .dataframe tbody tr th:only-of-type {\n",
       "        vertical-align: middle;\n",
       "    }\n",
       "\n",
       "    .dataframe tbody tr th {\n",
       "        vertical-align: top;\n",
       "    }\n",
       "\n",
       "    .dataframe thead th {\n",
       "        text-align: right;\n",
       "    }\n",
       "</style>\n",
       "<table border=\"1\" class=\"dataframe\">\n",
       "  <thead>\n",
       "    <tr style=\"text-align: right;\">\n",
       "      <th></th>\n",
       "      <th>Image Index</th>\n",
       "      <th>Dice RCA (Mean)</th>\n",
       "      <th>Dice RCA (Max)</th>\n",
       "      <th>Landmarks</th>\n",
       "      <th>Heart</th>\n",
       "      <th>Height</th>\n",
       "      <th>Width</th>\n",
       "    </tr>\n",
       "  </thead>\n",
       "  <tbody>\n",
       "    <tr>\n",
       "      <th>0</th>\n",
       "      <td>00000013_005.png</td>\n",
       "      <td>0.795482</td>\n",
       "      <td>0.837427</td>\n",
       "      <td>387,199,349,205,312,225,280,253,254,286,238,32...</td>\n",
       "      <td>448990 16 450012 34 451034 38 452055 44 453077...</td>\n",
       "      <td>1024</td>\n",
       "      <td>1024</td>\n",
       "    </tr>\n",
       "    <tr>\n",
       "      <th>1</th>\n",
       "      <td>00000013_026.png</td>\n",
       "      <td>0.817105</td>\n",
       "      <td>0.875244</td>\n",
       "      <td>400,184,363,195,330,227,297,265,270,308,252,35...</td>\n",
       "      <td>504418 33 505419 71 506435 81 507450 92 508466...</td>\n",
       "      <td>1024</td>\n",
       "      <td>1024</td>\n",
       "    </tr>\n",
       "    <tr>\n",
       "      <th>2</th>\n",
       "      <td>00000017_001.png</td>\n",
       "      <td>0.833868</td>\n",
       "      <td>0.885746</td>\n",
       "      <td>356,167,320,174,284,198,252,230,228,267,209,30...</td>\n",
       "      <td>541143 22 542153 75 543169 85 544190 90 545211...</td>\n",
       "      <td>1024</td>\n",
       "      <td>1024</td>\n",
       "    </tr>\n",
       "    <tr>\n",
       "      <th>3</th>\n",
       "      <td>00000030_001.png</td>\n",
       "      <td>0.868048</td>\n",
       "      <td>0.917175</td>\n",
       "      <td>400,151,360,156,321,175,284,202,255,236,233,27...</td>\n",
       "      <td>512542 5 513562 17 514583 27 515603 38 516624 ...</td>\n",
       "      <td>1024</td>\n",
       "      <td>1024</td>\n",
       "    </tr>\n",
       "    <tr>\n",
       "      <th>4</th>\n",
       "      <td>00000032_001.png</td>\n",
       "      <td>0.772204</td>\n",
       "      <td>0.851568</td>\n",
       "      <td>341,73,314,82,285,103,256,129,232,159,213,188,...</td>\n",
       "      <td>359918 35 360917 76 361929 90 362941 104 36395...</td>\n",
       "      <td>1024</td>\n",
       "      <td>1024</td>\n",
       "    </tr>\n",
       "  </tbody>\n",
       "</table>\n",
       "</div>"
      ],
      "text/plain": [
       "        Image Index  Dice RCA (Mean)  Dice RCA (Max)  \\\n",
       "0  00000013_005.png         0.795482        0.837427   \n",
       "1  00000013_026.png         0.817105        0.875244   \n",
       "2  00000017_001.png         0.833868        0.885746   \n",
       "3  00000030_001.png         0.868048        0.917175   \n",
       "4  00000032_001.png         0.772204        0.851568   \n",
       "\n",
       "                                           Landmarks  \\\n",
       "0  387,199,349,205,312,225,280,253,254,286,238,32...   \n",
       "1  400,184,363,195,330,227,297,265,270,308,252,35...   \n",
       "2  356,167,320,174,284,198,252,230,228,267,209,30...   \n",
       "3  400,151,360,156,321,175,284,202,255,236,233,27...   \n",
       "4  341,73,314,82,285,103,256,129,232,159,213,188,...   \n",
       "\n",
       "                                               Heart  Height  Width  \n",
       "0  448990 16 450012 34 451034 38 452055 44 453077...    1024   1024  \n",
       "1  504418 33 505419 71 506435 81 507450 92 508466...    1024   1024  \n",
       "2  541143 22 542153 75 543169 85 544190 90 545211...    1024   1024  \n",
       "3  512542 5 513562 17 514583 27 515603 38 516624 ...    1024   1024  \n",
       "4  359918 35 360917 76 361929 90 362941 104 36395...    1024   1024  "
      ]
     },
     "execution_count": 3,
     "metadata": {},
     "output_type": "execute_result"
    }
   ],
   "source": [
    "df.head()"
   ]
  },
  {
   "cell_type": "code",
   "execution_count": 4,
   "id": "35d1a646-a621-41f6-80e0-0d82153ff483",
   "metadata": {},
   "outputs": [],
   "source": [
    "heart = df[\"Heart\"].tolist()\n",
    "index = df[\"Image Index\"].tolist()"
   ]
  },
  {
   "cell_type": "code",
   "execution_count": 5,
   "id": "e404810c-d616-42f4-a5a7-ba6222f921af",
   "metadata": {},
   "outputs": [],
   "source": [
    "def get_mask_from_RLE(rle, height, width):\n",
    "    runs = np.array([int(x) for x in rle.split()])\n",
    "    starts = runs[::2]\n",
    "    lengths = runs[1::2]\n",
    "\n",
    "    mask = np.zeros((height * width), dtype=np.uint8)\n",
    "\n",
    "    for start, length in zip(starts, lengths):\n",
    "        start -= 1\n",
    "        end = start + length\n",
    "        mask[start:end] = 255\n",
    "\n",
    "    mask = mask.reshape((height, width))\n",
    "\n",
    "    return mask"
   ]
  },
  {
   "cell_type": "code",
   "execution_count": 6,
   "id": "fb1424d5-ad64-439e-8723-8a299e6ca5bd",
   "metadata": {},
   "outputs": [],
   "source": [
    "rle_masks = heart  # List of RLE-encoded masks\n",
    "image_ids = index  # List of image IDs corresponding to RLE masks"
   ]
  },
  {
   "cell_type": "code",
   "execution_count": 7,
   "id": "33c5f630-7538-4832-96ac-753daeabdf92",
   "metadata": {},
   "outputs": [
    {
     "data": {
      "text/plain": [
       "('00000013_005', '00000013_005.png')"
      ]
     },
     "execution_count": 7,
     "metadata": {},
     "output_type": "execute_result"
    }
   ],
   "source": [
    "image_ids[0].split(\".\")[0],image_ids[0]"
   ]
  },
  {
   "cell_type": "code",
   "execution_count": 8,
   "id": "f27ac852-a88d-4805-9f27-92db73190887",
   "metadata": {},
   "outputs": [],
   "source": [
    "coco_annotations = {\n",
    "    \"info\": {\"description\": \"ChestX-Ray Dataset\", \"version\": \"1.0\", \"year\": 2024},\n",
    "    \"images\": [],\n",
    "    \"annotations\": [],\n",
    "    \"categories\": [{\"id\": 1, \"name\": \"heart\", \"supercategory\": \"none\"}],\n",
    "}"
   ]
  },
  {
   "cell_type": "code",
   "execution_count": 9,
   "id": "93a37f7e-048f-4c20-8870-ad5ebd6a92ca",
   "metadata": {},
   "outputs": [],
   "source": [
    "height, width = 1024, 1024\n",
    "for idx, rle_mask in enumerate(rle_masks):\n",
    "    # Image information\n",
    "    image_info = {\n",
    "        \"id\": image_ids[idx].split(\".\")[0],\n",
    "        \"width\": width,\n",
    "        \"height\": height,\n",
    "        \"file_name\": f\"{image_ids[idx]}\",\n",
    "    }\n",
    "    coco_annotations[\"images\"].append(image_info)\n",
    "\n",
    "    # RLE to COCO annotation\n",
    "    mask_array = get_mask_from_RLE(heart[0],height, width)\n",
    "    mask_array = np.asfortranarray(mask_array)\n",
    "    coco_mask = mask.encode(mask_array)\n",
    "    coco_mask[\"counts\"] = coco_mask[\"counts\"].decode('utf-8')  # Convert bytes to string\n",
    "    annotation = {\n",
    "        \"id\": int(idx + 1),\n",
    "        \"image_id\": image_ids[idx].split(\".\")[0],\n",
    "        \"category_id\": int(1),\n",
    "        \"segmentation\": coco_mask,\n",
    "        \"area\": float(mask.area(coco_mask)),\n",
    "        \"bbox\": mask.toBbox(coco_mask).tolist(),\n",
    "        \"iscrowd\": int(0),  # Set to 0 for non-crowd objects\n",
    "    }\n",
    "    coco_annotations[\"annotations\"].append(annotation)"
   ]
  },
  {
   "cell_type": "code",
   "execution_count": 10,
   "id": "f0f99399-6819-4ab1-90a8-684dc89a0101",
   "metadata": {
    "scrolled": true
   },
   "outputs": [],
   "source": [
    "with open(\"ChestX-Ray_annotations.json\", \"w\") as f:\n",
    "    json.dump(coco_annotations, f)"
   ]
  },
  {
   "cell_type": "code",
   "execution_count": null,
   "id": "d7a5f882-6af4-49bc-b306-1412755ab80c",
   "metadata": {},
   "outputs": [],
   "source": []
  },
  {
   "cell_type": "raw",
   "id": "4522c319-34ea-41ff-a0a2-df221e7ac566",
   "metadata": {},
   "source": [
    "coco_mask = get_mask_from_RLE(heart[0],height, width)\n",
    "#coco_mask = np.asfortranarray(coco_mask.astype(np.uint8))\n",
    "coco_mask1 = np.asfortranarray(coco_mask)\n",
    "mask2 = mask.encode(coco_mask1)\n",
    "# mask3 = mask.decode(mask2)   #NO NEED TO DECODE\n",
    "mask.area(mask2)\n",
    "mask.toBbox(mask2).tolist()\n",
    "mask2['counts'].decode('utf-8')\n",
    "\n",
    "coco_annotations[\"annotations\"]"
   ]
  }
 ],
 "metadata": {
  "kernelspec": {
   "display_name": "Python 3 (ipykernel)",
   "language": "python",
   "name": "python3"
  },
  "language_info": {
   "codemirror_mode": {
    "name": "ipython",
    "version": 3
   },
   "file_extension": ".py",
   "mimetype": "text/x-python",
   "name": "python",
   "nbconvert_exporter": "python",
   "pygments_lexer": "ipython3",
   "version": "3.10.13"
  }
 },
 "nbformat": 4,
 "nbformat_minor": 5
}
