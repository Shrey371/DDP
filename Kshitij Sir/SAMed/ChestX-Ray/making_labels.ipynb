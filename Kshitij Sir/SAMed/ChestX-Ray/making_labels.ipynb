{
 "cells": [
  {
   "cell_type": "code",
   "execution_count": 2,
   "id": "4c3008e9-7f6e-47e8-9862-296ba5b08180",
   "metadata": {},
   "outputs": [],
   "source": [
    "import warnings\n",
    "warnings.filterwarnings('ignore')\n",
    "\n",
    "import pandas as pd"
   ]
  },
  {
   "cell_type": "code",
   "execution_count": 23,
   "id": "a952d2aa-ffcb-4456-9cc6-c2573f558d0d",
   "metadata": {},
   "outputs": [],
   "source": [
    "import os\n",
    "from ast import literal_eval"
   ]
  },
  {
   "cell_type": "code",
   "execution_count": 3,
   "id": "8f214b57-b3c8-4e64-891c-4dba7a518611",
   "metadata": {},
   "outputs": [],
   "source": [
    "df = pd.read_csv(\"sample_heart.csv\")"
   ]
  },
  {
   "cell_type": "code",
   "execution_count": 6,
   "id": "a0d23bc1-384d-4341-9b67-3cfc4d2a3115",
   "metadata": {},
   "outputs": [
    {
     "data": {
      "text/html": [
       "<div>\n",
       "<style scoped>\n",
       "    .dataframe tbody tr th:only-of-type {\n",
       "        vertical-align: middle;\n",
       "    }\n",
       "\n",
       "    .dataframe tbody tr th {\n",
       "        vertical-align: top;\n",
       "    }\n",
       "\n",
       "    .dataframe thead th {\n",
       "        text-align: right;\n",
       "    }\n",
       "</style>\n",
       "<table border=\"1\" class=\"dataframe\">\n",
       "  <thead>\n",
       "    <tr style=\"text-align: right;\">\n",
       "      <th></th>\n",
       "      <th>Image Index</th>\n",
       "      <th>Dice RCA (Mean)</th>\n",
       "      <th>Dice RCA (Max)</th>\n",
       "      <th>Landmarks</th>\n",
       "      <th>Heart</th>\n",
       "      <th>Height</th>\n",
       "      <th>Width</th>\n",
       "    </tr>\n",
       "  </thead>\n",
       "  <tbody>\n",
       "    <tr>\n",
       "      <th>0</th>\n",
       "      <td>00000013_005.png</td>\n",
       "      <td>0.795482</td>\n",
       "      <td>0.837427</td>\n",
       "      <td>387,199,349,205,312,225,280,253,254,286,238,32...</td>\n",
       "      <td>448990 16 450012 34 451034 38 452055 44 453077...</td>\n",
       "      <td>1024</td>\n",
       "      <td>1024</td>\n",
       "    </tr>\n",
       "    <tr>\n",
       "      <th>1</th>\n",
       "      <td>00000013_026.png</td>\n",
       "      <td>0.817105</td>\n",
       "      <td>0.875244</td>\n",
       "      <td>400,184,363,195,330,227,297,265,270,308,252,35...</td>\n",
       "      <td>504418 33 505419 71 506435 81 507450 92 508466...</td>\n",
       "      <td>1024</td>\n",
       "      <td>1024</td>\n",
       "    </tr>\n",
       "    <tr>\n",
       "      <th>2</th>\n",
       "      <td>00000017_001.png</td>\n",
       "      <td>0.833868</td>\n",
       "      <td>0.885746</td>\n",
       "      <td>356,167,320,174,284,198,252,230,228,267,209,30...</td>\n",
       "      <td>541143 22 542153 75 543169 85 544190 90 545211...</td>\n",
       "      <td>1024</td>\n",
       "      <td>1024</td>\n",
       "    </tr>\n",
       "    <tr>\n",
       "      <th>3</th>\n",
       "      <td>00000030_001.png</td>\n",
       "      <td>0.868048</td>\n",
       "      <td>0.917175</td>\n",
       "      <td>400,151,360,156,321,175,284,202,255,236,233,27...</td>\n",
       "      <td>512542 5 513562 17 514583 27 515603 38 516624 ...</td>\n",
       "      <td>1024</td>\n",
       "      <td>1024</td>\n",
       "    </tr>\n",
       "    <tr>\n",
       "      <th>4</th>\n",
       "      <td>00000032_001.png</td>\n",
       "      <td>0.772204</td>\n",
       "      <td>0.851568</td>\n",
       "      <td>341,73,314,82,285,103,256,129,232,159,213,188,...</td>\n",
       "      <td>359918 35 360917 76 361929 90 362941 104 36395...</td>\n",
       "      <td>1024</td>\n",
       "      <td>1024</td>\n",
       "    </tr>\n",
       "  </tbody>\n",
       "</table>\n",
       "</div>"
      ],
      "text/plain": [
       "        Image Index  Dice RCA (Mean)  Dice RCA (Max)  \\\n",
       "0  00000013_005.png         0.795482        0.837427   \n",
       "1  00000013_026.png         0.817105        0.875244   \n",
       "2  00000017_001.png         0.833868        0.885746   \n",
       "3  00000030_001.png         0.868048        0.917175   \n",
       "4  00000032_001.png         0.772204        0.851568   \n",
       "\n",
       "                                           Landmarks  \\\n",
       "0  387,199,349,205,312,225,280,253,254,286,238,32...   \n",
       "1  400,184,363,195,330,227,297,265,270,308,252,35...   \n",
       "2  356,167,320,174,284,198,252,230,228,267,209,30...   \n",
       "3  400,151,360,156,321,175,284,202,255,236,233,27...   \n",
       "4  341,73,314,82,285,103,256,129,232,159,213,188,...   \n",
       "\n",
       "                                               Heart  Height  Width  \n",
       "0  448990 16 450012 34 451034 38 452055 44 453077...    1024   1024  \n",
       "1  504418 33 505419 71 506435 81 507450 92 508466...    1024   1024  \n",
       "2  541143 22 542153 75 543169 85 544190 90 545211...    1024   1024  \n",
       "3  512542 5 513562 17 514583 27 515603 38 516624 ...    1024   1024  \n",
       "4  359918 35 360917 76 361929 90 362941 104 36395...    1024   1024  "
      ]
     },
     "execution_count": 6,
     "metadata": {},
     "output_type": "execute_result"
    }
   ],
   "source": [
    "df.head()"
   ]
  },
  {
   "cell_type": "code",
   "execution_count": 40,
   "id": "271e3607-d573-4384-aa8e-9dc4609464ed",
   "metadata": {},
   "outputs": [],
   "source": [
    "for curr in df[\"Image Index\"]:\n",
    "    heart = df[df[\"Image Index\"] == curr][\"Heart\"].tolist()[0]\n",
    "    curr = curr.split(\".\")[0]+\".txt\"\n",
    "    file = open(curr,\"w\")\n",
    "    file.write(heart)\n",
    "    file.close()"
   ]
  },
  {
   "cell_type": "code",
   "execution_count": null,
   "id": "25d1d9d0-7b20-482e-a30d-5eecec2f4ef9",
   "metadata": {},
   "outputs": [],
   "source": []
  }
 ],
 "metadata": {
  "kernelspec": {
   "display_name": "Python 3 (ipykernel)",
   "language": "python",
   "name": "python3"
  },
  "language_info": {
   "codemirror_mode": {
    "name": "ipython",
    "version": 3
   },
   "file_extension": ".py",
   "mimetype": "text/x-python",
   "name": "python",
   "nbconvert_exporter": "python",
   "pygments_lexer": "ipython3",
   "version": "3.10.13"
  }
 },
 "nbformat": 4,
 "nbformat_minor": 5
}
