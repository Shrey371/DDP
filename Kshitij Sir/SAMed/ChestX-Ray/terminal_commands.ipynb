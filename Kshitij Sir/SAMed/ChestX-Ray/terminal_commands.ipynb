{
 "cells": [
  {
   "cell_type": "raw",
   "id": "39dc5ffe-0a3a-4057-9888-d927fdeaff36",
   "metadata": {},
   "source": [
    "python3 preprocess_test.py --main_folder data/testing --output_folder data/preprocess_test_GRAY_128"
   ]
  },
  {
   "cell_type": "raw",
   "id": "a8b395a5-22e5-4947-9a42-978915df8072",
   "metadata": {},
   "source": [
    "python3 preprocess_train.py --main_folder data/training --output_folder data/preprocess_train_GRAY_128"
   ]
  },
  {
   "cell_type": "markdown",
   "id": "55dcb43e-1a2f-4c7e-8c75-65b782543702",
   "metadata": {},
   "source": [
    "FOR USING TRANSPOSE CONVERT THE IMAGE TO RGB"
   ]
  }
 ],
 "metadata": {
  "kernelspec": {
   "display_name": "Python 3 (ipykernel)",
   "language": "python",
   "name": "python3"
  },
  "language_info": {
   "codemirror_mode": {
    "name": "ipython",
    "version": 3
   },
   "file_extension": ".py",
   "mimetype": "text/x-python",
   "name": "python",
   "nbconvert_exporter": "python",
   "pygments_lexer": "ipython3",
   "version": "3.9.18"
  }
 },
 "nbformat": 4,
 "nbformat_minor": 5
}
