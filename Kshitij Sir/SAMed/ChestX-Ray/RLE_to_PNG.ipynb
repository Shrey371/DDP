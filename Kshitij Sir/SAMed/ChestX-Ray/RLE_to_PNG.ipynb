{
 "cells": [
  {
   "cell_type": "code",
   "execution_count": 1,
   "id": "3a500eaa-4db9-422c-830f-ea78ba73605d",
   "metadata": {},
   "outputs": [],
   "source": [
    "import pandas as pd\n",
    "import numpy as np\n",
    "import matplotlib.pyplot as plt\n",
    "%matplotlib inline\n",
    "\n",
    "from PIL import Image"
   ]
  },
  {
   "cell_type": "code",
   "execution_count": 2,
   "id": "8780886f-de9b-4c1c-9b84-b5da1a773ec7",
   "metadata": {},
   "outputs": [],
   "source": [
    "def get_mask_from_RLE(rle, height, width):\n",
    "    runs = np.array([int(x) for x in rle.split()])\n",
    "    starts = runs[::2]\n",
    "    lengths = runs[1::2]\n",
    "\n",
    "    mask = np.zeros((height * width), dtype=np.uint8)\n",
    "\n",
    "    for start, length in zip(starts, lengths):\n",
    "        start -= 1\n",
    "        end = start + length\n",
    "        mask[start:end] = 255\n",
    "\n",
    "    mask = mask.reshape((height, width))\n",
    "\n",
    "    return mask"
   ]
  },
  {
   "cell_type": "code",
   "execution_count": 3,
   "id": "d9eea52e-210a-4ac8-8222-bac61344a262",
   "metadata": {},
   "outputs": [],
   "source": [
    "df = pd.read_csv(\"sample_heart.csv\")"
   ]
  },
  {
   "cell_type": "code",
   "execution_count": 4,
   "id": "654d119f-d4a4-43ca-8aec-8e095c9b527e",
   "metadata": {},
   "outputs": [
    {
     "data": {
      "text/html": [
       "<div>\n",
       "<style scoped>\n",
       "    .dataframe tbody tr th:only-of-type {\n",
       "        vertical-align: middle;\n",
       "    }\n",
       "\n",
       "    .dataframe tbody tr th {\n",
       "        vertical-align: top;\n",
       "    }\n",
       "\n",
       "    .dataframe thead th {\n",
       "        text-align: right;\n",
       "    }\n",
       "</style>\n",
       "<table border=\"1\" class=\"dataframe\">\n",
       "  <thead>\n",
       "    <tr style=\"text-align: right;\">\n",
       "      <th></th>\n",
       "      <th>Image Index</th>\n",
       "      <th>Dice RCA (Mean)</th>\n",
       "      <th>Dice RCA (Max)</th>\n",
       "      <th>Landmarks</th>\n",
       "      <th>Heart</th>\n",
       "      <th>Height</th>\n",
       "      <th>Width</th>\n",
       "    </tr>\n",
       "  </thead>\n",
       "  <tbody>\n",
       "    <tr>\n",
       "      <th>0</th>\n",
       "      <td>00000013_005.png</td>\n",
       "      <td>0.795482</td>\n",
       "      <td>0.837427</td>\n",
       "      <td>387,199,349,205,312,225,280,253,254,286,238,32...</td>\n",
       "      <td>448990 16 450012 34 451034 38 452055 44 453077...</td>\n",
       "      <td>1024</td>\n",
       "      <td>1024</td>\n",
       "    </tr>\n",
       "    <tr>\n",
       "      <th>1</th>\n",
       "      <td>00000013_026.png</td>\n",
       "      <td>0.817105</td>\n",
       "      <td>0.875244</td>\n",
       "      <td>400,184,363,195,330,227,297,265,270,308,252,35...</td>\n",
       "      <td>504418 33 505419 71 506435 81 507450 92 508466...</td>\n",
       "      <td>1024</td>\n",
       "      <td>1024</td>\n",
       "    </tr>\n",
       "    <tr>\n",
       "      <th>2</th>\n",
       "      <td>00000017_001.png</td>\n",
       "      <td>0.833868</td>\n",
       "      <td>0.885746</td>\n",
       "      <td>356,167,320,174,284,198,252,230,228,267,209,30...</td>\n",
       "      <td>541143 22 542153 75 543169 85 544190 90 545211...</td>\n",
       "      <td>1024</td>\n",
       "      <td>1024</td>\n",
       "    </tr>\n",
       "    <tr>\n",
       "      <th>3</th>\n",
       "      <td>00000030_001.png</td>\n",
       "      <td>0.868048</td>\n",
       "      <td>0.917175</td>\n",
       "      <td>400,151,360,156,321,175,284,202,255,236,233,27...</td>\n",
       "      <td>512542 5 513562 17 514583 27 515603 38 516624 ...</td>\n",
       "      <td>1024</td>\n",
       "      <td>1024</td>\n",
       "    </tr>\n",
       "    <tr>\n",
       "      <th>4</th>\n",
       "      <td>00000032_001.png</td>\n",
       "      <td>0.772204</td>\n",
       "      <td>0.851568</td>\n",
       "      <td>341,73,314,82,285,103,256,129,232,159,213,188,...</td>\n",
       "      <td>359918 35 360917 76 361929 90 362941 104 36395...</td>\n",
       "      <td>1024</td>\n",
       "      <td>1024</td>\n",
       "    </tr>\n",
       "  </tbody>\n",
       "</table>\n",
       "</div>"
      ],
      "text/plain": [
       "        Image Index  Dice RCA (Mean)  Dice RCA (Max)  \\\n",
       "0  00000013_005.png         0.795482        0.837427   \n",
       "1  00000013_026.png         0.817105        0.875244   \n",
       "2  00000017_001.png         0.833868        0.885746   \n",
       "3  00000030_001.png         0.868048        0.917175   \n",
       "4  00000032_001.png         0.772204        0.851568   \n",
       "\n",
       "                                           Landmarks  \\\n",
       "0  387,199,349,205,312,225,280,253,254,286,238,32...   \n",
       "1  400,184,363,195,330,227,297,265,270,308,252,35...   \n",
       "2  356,167,320,174,284,198,252,230,228,267,209,30...   \n",
       "3  400,151,360,156,321,175,284,202,255,236,233,27...   \n",
       "4  341,73,314,82,285,103,256,129,232,159,213,188,...   \n",
       "\n",
       "                                               Heart  Height  Width  \n",
       "0  448990 16 450012 34 451034 38 452055 44 453077...    1024   1024  \n",
       "1  504418 33 505419 71 506435 81 507450 92 508466...    1024   1024  \n",
       "2  541143 22 542153 75 543169 85 544190 90 545211...    1024   1024  \n",
       "3  512542 5 513562 17 514583 27 515603 38 516624 ...    1024   1024  \n",
       "4  359918 35 360917 76 361929 90 362941 104 36395...    1024   1024  "
      ]
     },
     "execution_count": 4,
     "metadata": {},
     "output_type": "execute_result"
    }
   ],
   "source": [
    "df.head()"
   ]
  },
  {
   "cell_type": "code",
   "execution_count": 5,
   "id": "fdc0ae1d-ddf2-410a-a0b2-fbf3b9bd5ff5",
   "metadata": {},
   "outputs": [],
   "source": [
    "heart=df[\"Heart\"]\n",
    "index=df[\"Image Index\"]"
   ]
  },
  {
   "cell_type": "code",
   "execution_count": 6,
   "id": "e98e18ab-6a14-4d32-9c8b-9883e0756519",
   "metadata": {
    "scrolled": true
   },
   "outputs": [],
   "source": [
    "error = []\n",
    "for i,j in enumerate(heart):\n",
    "    try:\n",
    "        img = index[i]\n",
    "        heartMask_RLE = heart[i]\n",
    "        heartMask = get_mask_from_RLE(heartMask_RLE, 1024, 1024)\n",
    "        image = Image.fromarray(heartMask.astype('uint8'))\n",
    "        image.save(\"./masks/\"+img)\n",
    "    except Exception as e:\n",
    "        error.append([index[i],e])"
   ]
  },
  {
   "cell_type": "code",
   "execution_count": 7,
   "id": "539a1e52-db5c-4e2c-afbe-e92c58b7dcfb",
   "metadata": {},
   "outputs": [
    {
     "data": {
      "text/plain": [
       "0"
      ]
     },
     "execution_count": 7,
     "metadata": {},
     "output_type": "execute_result"
    }
   ],
   "source": [
    "len(error)"
   ]
  },
  {
   "cell_type": "code",
   "execution_count": 8,
   "id": "359a1c31-3e6a-47a8-87a4-970cc71b311d",
   "metadata": {
    "scrolled": true
   },
   "outputs": [
    {
     "data": {
      "text/plain": [
       "[]"
      ]
     },
     "execution_count": 8,
     "metadata": {},
     "output_type": "execute_result"
    }
   ],
   "source": [
    "error"
   ]
  },
  {
   "cell_type": "code",
   "execution_count": null,
   "id": "ba26b388-711e-4ec7-a2c8-cc1cd3d9690b",
   "metadata": {},
   "outputs": [],
   "source": []
  },
  {
   "cell_type": "code",
   "execution_count": null,
   "id": "c00f56c3-1069-4fbd-b560-e7f54f8d3b9c",
   "metadata": {},
   "outputs": [],
   "source": []
  },
  {
   "cell_type": "code",
   "execution_count": null,
   "id": "3aef3976-dd7c-4a95-acc4-f15c4d9fa649",
   "metadata": {},
   "outputs": [],
   "source": []
  },
  {
   "cell_type": "code",
   "execution_count": null,
   "id": "abd91cca-a939-4411-a7ac-c7384f49977b",
   "metadata": {},
   "outputs": [],
   "source": []
  },
  {
   "cell_type": "code",
   "execution_count": null,
   "id": "63bac12b-bad4-4343-9e70-c8fe95baff06",
   "metadata": {},
   "outputs": [],
   "source": [
    "# from PIL import Image\n",
    "# import numpy as np\n",
    "\n",
    "# # Replace this with your NumPy array\n",
    "# numpy_array = heartMask\n",
    "\n",
    "# # Convert the NumPy array to a PIL Image\n",
    "# image = Image.fromarray(numpy_array.astype('uint8'))\n",
    "\n",
    "# # Save as PNG\n",
    "# image.save(\"./mask/\"+index1)"
   ]
  },
  {
   "cell_type": "code",
   "execution_count": null,
   "id": "249088fa-1db1-4e61-b17c-3d1ac50a7366",
   "metadata": {},
   "outputs": [],
   "source": [
    "# index1=index[0]\n",
    "# heart1=heart[0]"
   ]
  },
  {
   "cell_type": "code",
   "execution_count": null,
   "id": "2e708a1c-dbaf-4d6a-994f-37c78d0ee7f9",
   "metadata": {},
   "outputs": [],
   "source": [
    "# heartMask = get_mask_from_RLE(heart1, 1024, 1024)\n",
    "# plt.figure()\n",
    "# plt.imshow(heartMask)\n",
    "# plt.title(\"Heart Mask\")"
   ]
  }
 ],
 "metadata": {
  "kernelspec": {
   "display_name": "Python 3 (ipykernel)",
   "language": "python",
   "name": "python3"
  },
  "language_info": {
   "codemirror_mode": {
    "name": "ipython",
    "version": 3
   },
   "file_extension": ".py",
   "mimetype": "text/x-python",
   "name": "python",
   "nbconvert_exporter": "python",
   "pygments_lexer": "ipython3",
   "version": "3.10.13"
  }
 },
 "nbformat": 4,
 "nbformat_minor": 5
}
