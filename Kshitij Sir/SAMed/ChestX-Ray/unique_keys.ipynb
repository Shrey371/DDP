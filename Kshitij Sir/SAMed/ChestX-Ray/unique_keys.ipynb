{
 "cells": [
  {
   "cell_type": "code",
   "execution_count": 1,
   "id": "704f1212-bc13-4289-a2f8-4d9a98dd35dd",
   "metadata": {},
   "outputs": [],
   "source": [
    "import h5py\n",
    "\n",
    "file_path = 'preprocessed_data/test_vol_h5/00000116_013.npy.h5' #accordingly change the file path"
   ]
  },
  {
   "cell_type": "code",
   "execution_count": 3,
   "id": "b70908ba-72b1-4c3b-9c86-0c105a825ba9",
   "metadata": {},
   "outputs": [
    {
     "name": "stdout",
     "output_type": "stream",
     "text": [
      "Keys in the HDF5 file: ['image', 'label']\n",
      "Dataset: image, Size: (1024, 1024)\n",
      "Dataset: label, Size: (1024, 1024)\n"
     ]
    }
   ],
   "source": [
    "with h5py.File(file_path, 'r') as file:\n",
    "    keys = list(file.keys())\n",
    "    print(\"Keys in the HDF5 file:\", keys)\n",
    "\n",
    "    for key in keys:\n",
    "        dataset = file[key]\n",
    "        print(f\"Dataset: {key}, Size: {dataset.shape}\")"
   ]
  },
  {
   "cell_type": "code",
   "execution_count": null,
   "id": "43e05fa1-7de4-4fa7-9ef2-b7e18cbf6205",
   "metadata": {},
   "outputs": [],
   "source": []
  }
 ],
 "metadata": {
  "kernelspec": {
   "display_name": "Python 3 (ipykernel)",
   "language": "python",
   "name": "python3"
  },
  "language_info": {
   "codemirror_mode": {
    "name": "ipython",
    "version": 3
   },
   "file_extension": ".py",
   "mimetype": "text/x-python",
   "name": "python",
   "nbconvert_exporter": "python",
   "pygments_lexer": "ipython3",
   "version": "3.9.18"
  }
 },
 "nbformat": 4,
 "nbformat_minor": 5
}
