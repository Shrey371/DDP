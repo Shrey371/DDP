{
 "cells": [
  {
   "cell_type": "markdown",
   "id": "97186de0-d3ee-402d-bcf1-5a90d5dbcf02",
   "metadata": {},
   "source": [
    "# https://pyimagesearch.com/2022/02/21/u-net-image-segmentation-in-keras/"
   ]
  },
  {
   "cell_type": "markdown",
   "id": "cad3d9eb-d363-4e77-9aab-e480ab550ed0",
   "metadata": {},
   "source": [
    "# https://nn.labml.ai/unet/index.html"
   ]
  },
  {
   "cell_type": "markdown",
   "id": "8aad5aa1-978a-4e60-a6de-b9d5f166a4cb",
   "metadata": {},
   "source": [
    "## https://arxiv.org/abs/1505.04597\n",
    "### U-Net: Convolutional Networks for Biomedical Image Segmentation\n",
    "\n",
    "file:///E:/Intelehealth/Kshtij%20Sir/U-Net/U-Net__Convolutional%20Networks%20for%20Biomedical%20Image%20Segmentation.pdf"
   ]
  },
  {
   "cell_type": "code",
   "execution_count": 2,
   "id": "98904166-2fb7-40e5-90b5-7b7a8bf4bfe6",
   "metadata": {},
   "outputs": [],
   "source": [
    "import torch\n",
    "import torchvision.transforms.functional\n",
    "from torch import nn"
   ]
  },
  {
   "cell_type": "code",
   "execution_count": 4,
   "id": "1f012ff3-7699-4e20-9715-36ea94ff454d",
   "metadata": {},
   "outputs": [],
   "source": [
    "from torch import nn\n",
    "from pathlib import Path\n",
    "\n",
    "import torch.utils.data\n",
    "import torchvision.transforms.functional\n",
    "from PIL import Image\n",
    "\n",
    "from labml import lab"
   ]
  },
  {
   "cell_type": "code",
   "execution_count": 6,
   "id": "8ea9dcdd-3eb4-4eca-b11f-36f754547929",
   "metadata": {},
   "outputs": [],
   "source": [
    "import numpy as np\n",
    "import torch\n",
    "import torch.utils.data\n",
    "import torchvision.transforms.functional\n",
    "from torch import nn\n",
    "\n",
    "from labml import lab, tracker, experiment, monit\n",
    "from labml.configs import BaseConfigs\n",
    "from labml_helpers.device import DeviceConfigs\n",
    "from labml_nn.unet.carvana import CarvanaDataset\n",
    "from labml_nn.unet import UNet"
   ]
  },
  {
   "cell_type": "code",
   "execution_count": null,
   "id": "7e6eda9b-74cc-4590-a1bd-333eea6382b3",
   "metadata": {},
   "outputs": [],
   "source": []
  }
 ],
 "metadata": {
  "kernelspec": {
   "display_name": "Python 3 (ipykernel)",
   "language": "python",
   "name": "python3"
  },
  "language_info": {
   "codemirror_mode": {
    "name": "ipython",
    "version": 3
   },
   "file_extension": ".py",
   "mimetype": "text/x-python",
   "name": "python",
   "nbconvert_exporter": "python",
   "pygments_lexer": "ipython3",
   "version": "3.9.18"
  }
 },
 "nbformat": 4,
 "nbformat_minor": 5
}
