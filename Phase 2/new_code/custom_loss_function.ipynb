{
 "cells": [
  {
   "cell_type": "markdown",
   "id": "0d8801e8-0d42-486a-bc71-0c0a6a8bbdc3",
   "metadata": {},
   "source": [
    "# Importing Libraries"
   ]
  },
  {
   "cell_type": "code",
   "execution_count": 1,
   "id": "a749f4fc-288e-4425-8bb9-bc9cca0a34d5",
   "metadata": {},
   "outputs": [],
   "source": [
    "import warnings\n",
    "warnings.filterwarnings('ignore')\n",
    "\n",
    "import pandas as pd\n",
    "import numpy as np\n",
    "from PIL import Image, ImageFile\n",
    "ImageFile.LOAD_TRUNCATED_IMAGES = True\n",
    "\n",
    "import os\n",
    "import glob\n",
    "import matplotlib.pyplot as plt\n",
    "import math\n",
    "import cv2\n",
    "\n",
    "\n",
    "%matplotlib inline"
   ]
  },
  {
   "cell_type": "code",
   "execution_count": 2,
   "id": "9650f3e6-6598-4873-900c-4f86d72117ad",
   "metadata": {},
   "outputs": [],
   "source": [
    "from sklearn.metrics import mean_squared_error, r2_score, mean_absolute_error\n",
    "from sklearn.model_selection import train_test_split"
   ]
  },
  {
   "cell_type": "markdown",
   "id": "b71c9241-f51e-497c-a448-99e9f97b3294",
   "metadata": {},
   "source": [
    "# Importing Data"
   ]
  },
  {
   "cell_type": "code",
   "execution_count": 3,
   "id": "f93cb9d8-9f19-4dab-b3c8-9da3107ac0b8",
   "metadata": {},
   "outputs": [],
   "source": [
    "data_nail = pd.read_excel(\"merged_data.xlsx\", sheet_name=\"nail\")\n",
    "data_tongue = pd.read_excel(\"merged_data.xlsx\", sheet_name=\"tongue\")\n",
    "data_palm = pd.read_excel(\"merged_data.xlsx\", sheet_name=\"palm\")\n",
    "common_ids = pd.read_excel(\"merged_data.xlsx\", sheet_name=\"common_ids\")"
   ]
  },
  {
   "cell_type": "code",
   "execution_count": 4,
   "id": "87d596ae-864e-4e16-9521-c6a8cb6d2b66",
   "metadata": {},
   "outputs": [],
   "source": [
    "train, test = train_test_split(common_ids, test_size=0.3)\n",
    "train, test = train[\"number\"].tolist(), test[\"number\"].tolist()"
   ]
  },
  {
   "cell_type": "code",
   "execution_count": 5,
   "id": "4dd0c5ad-117f-43b8-8a2e-01367eba132a",
   "metadata": {},
   "outputs": [],
   "source": [
    "nail_train, nail_test = data_nail[data_nail['number'].isin(train)], data_nail[data_nail['number'].isin(test)]\n",
    "tongue_train, tongue_test = data_tongue[data_tongue['number'].isin(train)], data_tongue[data_tongue['number'].isin(test)]\n",
    "palm_train, palm_test = data_palm[data_palm['number'].isin(train)], data_palm[data_palm['number'].isin(test)]"
   ]
  },
  {
   "cell_type": "markdown",
   "id": "791f419d-363d-4707-a6db-87eeafd7395d",
   "metadata": {},
   "source": [
    "## Nail"
   ]
  },
  {
   "cell_type": "code",
   "execution_count": 6,
   "id": "28cc0bc9-df3c-4ddf-adbb-631b900bae89",
   "metadata": {},
   "outputs": [],
   "source": [
    "X_nail_train = nail_train.drop(columns=['number','label']).to_numpy()\n",
    "X_nail_test = nail_test.drop(columns=['number','label']).to_numpy()"
   ]
  },
  {
   "cell_type": "markdown",
   "id": "395132c1-3bba-4176-9ba8-1efc8cd66c45",
   "metadata": {},
   "source": [
    "## Tongue"
   ]
  },
  {
   "cell_type": "code",
   "execution_count": 7,
   "id": "1719063f-0020-424e-bda6-c2d20b3d8f52",
   "metadata": {},
   "outputs": [],
   "source": [
    "X_tongue_train = tongue_train.drop(columns=['number','label']).to_numpy()\n",
    "X_tongue_test = tongue_test.drop(columns=['number','label']).to_numpy()"
   ]
  },
  {
   "cell_type": "markdown",
   "id": "d1f4fb2e-85bf-498f-82f9-5ae54565d2cb",
   "metadata": {},
   "source": [
    "## Palm"
   ]
  },
  {
   "cell_type": "code",
   "execution_count": 8,
   "id": "9e195b51-f89a-4707-bee1-b4e09b1c82c1",
   "metadata": {},
   "outputs": [],
   "source": [
    "X_palm_train = palm_train.drop(columns=['number','label']).to_numpy()\n",
    "X_palm_test = palm_test.drop(columns=['number','label']).to_numpy()"
   ]
  },
  {
   "cell_type": "markdown",
   "id": "4f1ffc6a-01f4-48c3-a2b6-e7bca99a1a67",
   "metadata": {},
   "source": [
    "## Labels"
   ]
  },
  {
   "cell_type": "code",
   "execution_count": 9,
   "id": "d2263f9d-7a26-4905-9fe3-480a62cbde2d",
   "metadata": {},
   "outputs": [],
   "source": [
    "y_train = nail_train['label'].to_numpy()\n",
    "y_test = nail_test['label'].to_numpy()"
   ]
  },
  {
   "cell_type": "markdown",
   "id": "d23adfb3-ef40-460b-8cdb-a5353859bb2e",
   "metadata": {},
   "source": [
    "# Helper Functions"
   ]
  },
  {
   "cell_type": "code",
   "execution_count": 10,
   "id": "884bcd0a-849b-4401-882f-e7aae63aaead",
   "metadata": {},
   "outputs": [],
   "source": [
    "def predict(X,beta,b):\n",
    "    return np.dot(X,beta) + b"
   ]
  },
  {
   "cell_type": "code",
   "execution_count": 11,
   "id": "18bb29f4-3488-4e4c-b85b-ef48bea5ebcf",
   "metadata": {},
   "outputs": [],
   "source": [
    "def loss(y_true,y_hat,y_pred,coeff,mse):\n",
    "    \n",
    "    y_nail, y_tongue, y_palm = y_pred\n",
    "    a, b, c = coeff\n",
    "    mse_nail, mse_tongue, mse_palm = mse\n",
    "\n",
    "    cost = mean_squared_error(y_true, y_hat) + a*mse_nail + b*mse_tongue + c*mse_palm\n",
    "\n",
    "    return cost"
   ]
  },
  {
   "cell_type": "code",
   "execution_count": 12,
   "id": "19a9958a-94af-48a8-a567-e0083458cba6",
   "metadata": {},
   "outputs": [],
   "source": [
    "def gradients(y_true,y_hat,weights,coeff,X,intercept):\n",
    "\n",
    "    weights_nail, weights_tongue, weights_palm = weights\n",
    "    b_nail, b_tongue, b_palm = intercept\n",
    "    X_nail, X_tongue, X_palm = X\n",
    "    a, b, c = coeff\n",
    "    \n",
    "    y_pred_nail = predict(X_nail_train, beta_nail, b_nail)\n",
    "    y_pred_tongue = predict(X_tongue_train, beta_tongue, b_tongue)\n",
    "    y_pred_palm = predict(X_palm_train, beta_palm, b_palm)\n",
    "\n",
    "    N = X_nail.shape[0]\n",
    "\n",
    "    dw_nail = (-2*a)*np.dot(X_nail.T,2*y_true-y_hat-y_pred_nail)/N\n",
    "    dw_tongue = (-2*b)*np.dot(X_tongue.T,2*y_true-y_hat-y_pred_tongue)/N\n",
    "    dw_palm = (-2*c)*np.dot(X_palm.T,2*y_true-y_hat-y_pred_palm)/N\n",
    "\n",
    "    db_nail = (-2*a/N)*np.sum(2*y_true-y_hat-y_pred_nail)\n",
    "    db_tongue = (-2*b/N)*np.sum(2*y_true-y_hat-y_pred_tongue)\n",
    "    db_palm = (-2*c/N)*np.sum(2*y_true-y_hat-y_pred_palm)\n",
    "\n",
    "    da = (np.dot(y_true,y_true) - 4*np.dot(y_true,y_pred_nail) + np.dot(y_pred_nail,y_pred_nail) - np.dot(y_hat,y_pred_nail))/N\n",
    "    db = (np.dot(y_true,y_true) - 4*np.dot(y_true,y_pred_tongue) + np.dot(y_pred_tongue,y_pred_tongue) - np.dot(y_hat,y_pred_tongue))/N\n",
    "    dc = (np.dot(y_true,y_true) - 4*np.dot(y_true,y_pred_palm) + np.dot(y_pred_palm,y_pred_palm) - np.dot(y_hat,y_pred_palm))/N\n",
    "\n",
    "    return [dw_nail, dw_tongue, dw_palm, db_nail, db_tongue, db_palm, da, db, dc]"
   ]
  },
  {
   "cell_type": "code",
   "execution_count": 13,
   "id": "16bf651b-a599-431a-99fd-480e1a8f2cc1",
   "metadata": {},
   "outputs": [],
   "source": [
    "def sq_sum(a,b,c):\n",
    "    return math.sqrt(a**2 + b**2 + c**2)"
   ]
  },
  {
   "cell_type": "markdown",
   "id": "266c2fa5-88b1-45e7-91f7-664a12bb91a5",
   "metadata": {},
   "source": [
    "# Driver Code"
   ]
  },
  {
   "cell_type": "markdown",
   "id": "587cd0cc-f8f5-43ab-920b-fabab5e38de2",
   "metadata": {},
   "source": [
    "## Initilisation "
   ]
  },
  {
   "cell_type": "code",
   "execution_count": 132,
   "id": "5028d63d-76ca-46c5-84b3-d6470634b973",
   "metadata": {},
   "outputs": [
    {
     "name": "stdout",
     "output_type": "stream",
     "text": [
      "Shape of training data is (182, 14)\n"
     ]
    }
   ],
   "source": [
    "a, b, c = 2.0, 1.0, 3.0\n",
    "\n",
    "features = X_nail_train.shape[1]\n",
    "rows = X_nail_train.shape[0]\n",
    "\n",
    "beta_nail = np.array([0.01]*features)\n",
    "b_nail = 1.0\n",
    "\n",
    "beta_tongue = np.array([0.02]*features)\n",
    "b_tongue = 1.0\n",
    "\n",
    "beta_palm = np.array([0.001]*features)\n",
    "b_palm = 1.0\n",
    "\n",
    "train_loss = []\n",
    "\n",
    "alpha = 0.0000001\n",
    "iterations = 500\n",
    "\n",
    "print(f\"Shape of training data is {X_nail_train.shape}\")"
   ]
  },
  {
   "cell_type": "markdown",
   "id": "64ebca6b-ef86-4cc7-9b40-a182a2cac111",
   "metadata": {},
   "source": [
    "## Training"
   ]
  },
  {
   "cell_type": "code",
   "execution_count": 133,
   "id": "d3b23bda-81a2-447b-bd5c-f88707545ead",
   "metadata": {},
   "outputs": [
    {
     "name": "stdout",
     "output_type": "stream",
     "text": [
      "Training Complete\n"
     ]
    },
    {
     "data": {
      "image/png": "[encoded data removed]",
      "text/plain": [
       "<Figure size 640x480 with 1 Axes>"
      ]
     },
     "metadata": {},
     "output_type": "display_data"
    }
   ],
   "source": [
    "for i in range(iterations):\n",
    "\n",
    "    # print(f\"-----------------------------------------------------------------------------------------\")\n",
    "    # print(f\"Iteration {i+1}\")\n",
    "\n",
    "    \n",
    "    # PREDICTION\n",
    "    y_pred_nail = predict(X_nail_train, beta_nail, b_nail)\n",
    "    y_pred_tongue = predict(X_tongue_train, beta_tongue, b_tongue)\n",
    "    y_pred_palm = predict(X_palm_train, beta_palm, b_palm)\n",
    "\n",
    "    # print(f\"actual prediction = {y_train}\")    \n",
    "    # print(f\"beta coeff of nail = {beta_nail}\")\n",
    "    # print(f\"prediction of tongue = {y_pred_tongue}\")\n",
    "    # print(f\"prediction of palm = {y_pred_palm}\")\n",
    "\n",
    "    \n",
    "    # MEAN SQUARED ERROR\n",
    "    mse_nail = mean_squared_error(y_train, y_pred_nail)\n",
    "    mse_tongue = mean_squared_error(y_train, y_pred_tongue)\n",
    "    mse_palm = mean_squared_error(y_train, y_pred_palm)\n",
    "\n",
    "    # print(f\"mse of nail = {mse_nail}\")\n",
    "    # print(f\"mse of tongue = {mse_tongue}\")\n",
    "    # print(f\"mse of palm = {mse_palm}\")\n",
    "\n",
    "    \n",
    "    # SUM OF SQUARES OF COEFF = 1\n",
    "    denom = sq_sum(a,b,c)\n",
    "    a, b, c = a/denom, b/denom, c/denom\n",
    "\n",
    "    \n",
    "    # FINAL PREDICTION\n",
    "    y_hat = a*y_pred_nail + b*y_pred_tongue + c*y_pred_palm\n",
    "    # print(f\"prediction = {y_hat}\")\n",
    "    # print(f\"mse overall = {mean_squared_error(y_train, y_hat)}\")\n",
    "\n",
    "    \n",
    "    # LOSS FUNCTION ATTRIBUTES\n",
    "    y_pred = [y_pred_nail, y_pred_tongue, y_pred_palm]\n",
    "    coeff = [a, b, c]\n",
    "    weights = [beta_nail, beta_tongue, beta_palm]\n",
    "    mse = [mse_nail, mse_tongue, mse_palm]\n",
    "    X = [X_nail_train, X_tongue_train, X_palm_train]\n",
    "    intercept = [b_nail, b_tongue, b_palm]\n",
    "\n",
    "    \n",
    "    # LOSS FUNCTION\n",
    "    train_loss.append(loss(y_train,y_hat,y_pred,coeff,mse))\n",
    "    plt.plot(train_loss)\n",
    "    \n",
    "    # GRADIENTS\n",
    "    dw = gradients(y_train,y_hat,weights,coeff,X,intercept)\n",
    "    dw_nail, dw_tongue, dw_palm, db_nail, db_tongue, db_palm, da, db, dc = dw\n",
    "\n",
    "    \n",
    "    # UPDATING PARAMETERS\n",
    "    beta_nail -= alpha*dw_nail\n",
    "    beta_tongue -= alpha*dw_tongue\n",
    "    beta_palm -= alpha*dw_palm\n",
    "    \n",
    "    b_nail -= alpha*db_nail\n",
    "    b_tongue -= alpha*db_tongue\n",
    "    b_palm -= alpha*db_palm\n",
    "    \n",
    "    a -= alpha*da \n",
    "    b -= alpha*db \n",
    "    c -= alpha*dc\n",
    "\n",
    "    # SUM OF SQUARES OF COEFF = 1\n",
    "    denom = sq_sum(a,b,c)\n",
    "    a, b, c = a/denom, b/denom, c/denom\n",
    "\n",
    "print(\"Training Complete\")"
   ]
  },
  {
   "cell_type": "code",
   "execution_count": 134,
   "id": "a744d553-1ab1-4e14-adeb-710ee821b2c8",
   "metadata": {},
   "outputs": [
    {
     "name": "stdout",
     "output_type": "stream",
     "text": [
      "[31.685605504926485, 31.68251807526385, 31.67943870698266, 31.67636737578935, 31.673304057481637]\n"
     ]
    }
   ],
   "source": [
    "print(train_loss[-5:])"
   ]
  },
  {
   "cell_type": "code",
   "execution_count": 135,
   "id": "7bccafef-51ce-42a7-a979-0b1709e4ca5d",
   "metadata": {},
   "outputs": [
    {
     "name": "stdout",
     "output_type": "stream",
     "text": [
      "beta coeff of nail = [0.00594871 0.00725654 0.00752485 0.00869581 0.00998009 0.00655122\n",
      " 0.00689182 0.00842578 0.00840768 0.00932705 0.00902814 0.00689182\n",
      " 0.00810066 0.0099427 ]\n",
      "-----------------------------------------------------------------------------------------\n",
      "beta coeff of tongue = [ 0.0091151   0.01351239  0.01306208  0.01560262  0.01994349 -0.00492514\n",
      "  0.01203414  0.01678219  0.01687501  0.01788032  0.01728114  0.01203414\n",
      "  0.01622282  0.01993   ]\n",
      "-----------------------------------------------------------------------------------------\n",
      "beta coeff of palm = [0.00610716 0.00420972 0.00491094 0.00289972 0.00103351 0.00177097\n",
      " 0.00485118 0.00189684 0.0018431  0.00186645 0.00211952 0.00485118\n",
      " 0.00174751 0.00095361]\n"
     ]
    }
   ],
   "source": [
    "print(f\"beta coeff of nail = {beta_nail}\")    \n",
    "print(f\"-----------------------------------------------------------------------------------------\")\n",
    "print(f\"beta coeff of tongue = {beta_tongue}\")\n",
    "print(f\"-----------------------------------------------------------------------------------------\")\n",
    "print(f\"beta coeff of palm = {beta_palm}\")"
   ]
  },
  {
   "cell_type": "code",
   "execution_count": 136,
   "id": "2d6d5b24-fcef-47ee-8397-894a613d40b6",
   "metadata": {},
   "outputs": [
    {
     "name": "stdout",
     "output_type": "stream",
     "text": [
      "intercept coeff of nail = 0.9999799916818572\n",
      "intercept coeff of tongue = 0.999938718214614\n",
      "intercept coeff of palm = 1.0000292146430245\n"
     ]
    }
   ],
   "source": [
    "print(f\"intercept coeff of nail = {b_nail}\")\n",
    "print(f\"intercept coeff of tongue = {b_tongue}\")\n",
    "print(f\"intercept coeff of palm = {b_palm}\")"
   ]
  },
  {
   "cell_type": "code",
   "execution_count": 137,
   "id": "e0a1f8b6-3375-41bb-9877-82dc54b069a2",
   "metadata": {},
   "outputs": [
    {
     "name": "stdout",
     "output_type": "stream",
     "text": [
      "coeff of nail = 0.5370621565022234\n",
      "coeff of tongue = 0.27966383527874766\n",
      "coeff of palm = 0.7958343918745674\n"
     ]
    }
   ],
   "source": [
    "print(f\"coeff of nail = {a}\")\n",
    "print(f\"coeff of tongue = {b}\")\n",
    "print(f\"coeff of palm = {c}\")"
   ]
  },
  {
   "cell_type": "markdown",
   "id": "7901bea9-0a37-46e3-ba56-f65671f2fc10",
   "metadata": {},
   "source": [
    "# Testing"
   ]
  },
  {
   "cell_type": "code",
   "execution_count": 138,
   "id": "b428fef8-3abe-4ca6-adf7-0421d83f517b",
   "metadata": {},
   "outputs": [
    {
     "name": "stdout",
     "output_type": "stream",
     "text": [
      "Shape of training data is (78, 14)\n"
     ]
    }
   ],
   "source": [
    "print(f\"Shape of training data is {X_nail_test.shape}\")"
   ]
  },
  {
   "cell_type": "code",
   "execution_count": 139,
   "id": "f4b1accb-ee24-4615-82b8-f6666d2bc1d0",
   "metadata": {},
   "outputs": [],
   "source": [
    "y_pred_nail = predict(X_nail_test, beta_nail, b_nail)\n",
    "y_pred_tongue = predict(X_tongue_test, beta_tongue, b_tongue)\n",
    "y_pred_palm = predict(X_palm_test, beta_palm, b_palm)\n",
    "\n",
    "denom = sq_sum(a,b,c)\n",
    "a, b, c = a/denom, b/denom, c/denom"
   ]
  },
  {
   "cell_type": "code",
   "execution_count": 140,
   "id": "b015baad-cd3b-492f-93cc-735944e5811e",
   "metadata": {},
   "outputs": [],
   "source": [
    "y_test\n",
    "y_hat_test = a*y_pred_nail + b*y_pred_tongue + c*y_pred_palm"
   ]
  },
  {
   "cell_type": "code",
   "execution_count": 141,
   "id": "140cc8d1-01ba-42f6-9278-5cdac09a080f",
   "metadata": {},
   "outputs": [
    {
     "data": {
      "text/plain": [
       "13.036939935666181"
      ]
     },
     "execution_count": 141,
     "metadata": {},
     "output_type": "execute_result"
    }
   ],
   "source": [
    "mean_squared_error(y_test, y_hat_test)"
   ]
  },
  {
   "cell_type": "code",
   "execution_count": 142,
   "id": "6d833127-c562-4748-9814-f6e231e902a3",
   "metadata": {},
   "outputs": [
    {
     "data": {
      "text/plain": [
       "3.1076688210322883"
      ]
     },
     "execution_count": 142,
     "metadata": {},
     "output_type": "execute_result"
    }
   ],
   "source": [
    "mean_absolute_error(y_test, y_hat_test)"
   ]
  },
  {
   "cell_type": "code",
   "execution_count": 143,
   "id": "41cfe2a8-2987-4295-891d-971541f10ed6",
   "metadata": {},
   "outputs": [
    {
     "data": {
      "text/plain": [
       "-2.2033436401039004"
      ]
     },
     "execution_count": 143,
     "metadata": {},
     "output_type": "execute_result"
    }
   ],
   "source": [
    "r2_score(y_test, y_hat_test)"
   ]
  },
  {
   "cell_type": "code",
   "execution_count": null,
   "id": "c2ca5a92-a665-468d-ab8a-19296fd40ae7",
   "metadata": {},
   "outputs": [],
   "source": []
  },
  {
   "cell_type": "code",
   "execution_count": null,
   "id": "1f6c0b54-3da4-496d-a618-0102635276a1",
   "metadata": {},
   "outputs": [],
   "source": []
  },
  {
   "cell_type": "code",
   "execution_count": null,
   "id": "312e9bac-4310-4a35-b3a7-838182f98844",
   "metadata": {},
   "outputs": [],
   "source": []
  },
  {
   "cell_type": "code",
   "execution_count": null,
   "id": "861e645b-7961-4410-a640-1838f7b5f78a",
   "metadata": {},
   "outputs": [],
   "source": []
  },
  {
   "cell_type": "code",
   "execution_count": null,
   "id": "710906c6-9f8f-4b9f-8223-c094dd00ce1c",
   "metadata": {},
   "outputs": [],
   "source": []
  },
  {
   "cell_type": "code",
   "execution_count": null,
   "id": "c8e9ece5-119d-47ba-8f8f-23c2b45b2404",
   "metadata": {},
   "outputs": [],
   "source": []
  },
  {
   "cell_type": "code",
   "execution_count": null,
   "id": "7c6f9661-df8f-4f52-a0d2-c29fb18490d7",
   "metadata": {},
   "outputs": [],
   "source": []
  },
  {
   "cell_type": "code",
   "execution_count": null,
   "id": "53c6a57e-759f-4423-a8e0-8d92dcec70ef",
   "metadata": {},
   "outputs": [],
   "source": [
    "y_pred_nail = predict(X_nail_train, beta_nail, b_nail)\n",
    "y_pred_tongue = predict(X_tongue_train, beta_tongue, b_tongue)\n",
    "y_pred_palm = predict(X_palm_train, beta_palm, b_palm)"
   ]
  },
  {
   "cell_type": "code",
   "execution_count": null,
   "id": "0f3b3d3d-9a2f-4b90-9b69-06d99a4b9c78",
   "metadata": {},
   "outputs": [],
   "source": [
    "mse_nail = mean_squared_error(y_train, y_pred_nail)\n",
    "mse_tongue = mean_squared_error(y_train, y_pred_tongue)\n",
    "mse_palm = mean_squared_error(y_train, y_pred_palm)"
   ]
  },
  {
   "cell_type": "code",
   "execution_count": null,
   "id": "493eba4b-c52b-453e-a6c0-0777e7e2f544",
   "metadata": {},
   "outputs": [],
   "source": [
    "denom = sq_sum(a,b,c)\n",
    "a, b, c = a/denom, b/denom, c/denom"
   ]
  },
  {
   "cell_type": "code",
   "execution_count": null,
   "id": "7f21c1cc-1d2e-4930-a03e-965eec5ef48f",
   "metadata": {},
   "outputs": [],
   "source": [
    "y_hat = a*y_pred_nail + b*y_pred_tongue + c*y_pred_palm"
   ]
  },
  {
   "cell_type": "code",
   "execution_count": null,
   "id": "8d923100-5d9a-4cbf-9944-c510c4dc4a85",
   "metadata": {},
   "outputs": [],
   "source": [
    "y_pred = [y_pred_nail, y_pred_tongue, y_pred_palm]\n",
    "coeff = [a, b, c]\n",
    "weights = [beta_nail, beta_tongue, beta_palm]\n",
    "mse = [mse_nail, mse_tongue, mse_palm]\n",
    "train_loss.append(loss(y_train,y_hat,y_pred,coeff,mse))\n",
    "\n",
    "X = [X_nail_train, X_tongue_train, X_palm_train]\n",
    "intercept = [b_nail, b_tongue, b_palm]"
   ]
  },
  {
   "cell_type": "code",
   "execution_count": null,
   "id": "ffd247c5-77fa-4a19-95e8-aa01ef7ecb3a",
   "metadata": {},
   "outputs": [],
   "source": [
    "dw = gradients(y_train,y_hat,weights,coeff,X,intercept)\n",
    "dw_nail, dw_tongue, dw_palm, db_nail, db_tongue, db_palm, da, db, dc = dw\n",
    "\n",
    "beta_nail -= alpha*dw_nail\n",
    "beta_tongue -= alpha*dw_tongue\n",
    "beta_palm -= alpha*dw_palm\n",
    "\n",
    "b_nail -= alpha*db_nail\n",
    "b_tongue -= alpha*db_tongue\n",
    "b_palm -= alpha*db_palm\n",
    "\n",
    "a -= alpha*da \n",
    "b -= alpha*db \n",
    "c -= alpha*dc "
   ]
  },
  {
   "cell_type": "code",
   "execution_count": null,
   "id": "797a03d6-602d-4af3-ae9a-0f0ae2213efc",
   "metadata": {},
   "outputs": [],
   "source": []
  },
  {
   "cell_type": "code",
   "execution_count": null,
   "id": "de27b034-f09f-402d-9394-5b623c4c8a84",
   "metadata": {},
   "outputs": [],
   "source": []
  }
 ],
 "metadata": {
  "kernelspec": {
   "display_name": "Python 3 (ipykernel)",
   "language": "python",
   "name": "python3"
  },
  "language_info": {
   "codemirror_mode": {
    "name": "ipython",
    "version": 3
   },
   "file_extension": ".py",
   "mimetype": "text/x-python",
   "name": "python",
   "nbconvert_exporter": "python",
   "pygments_lexer": "ipython3",
   "version": "3.11.8"
  }
 },
 "nbformat": 4,
 "nbformat_minor": 5
}
