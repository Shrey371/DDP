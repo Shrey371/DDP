{
 "cells": [
  {
   "cell_type": "markdown",
   "id": "0d8801e8-0d42-486a-bc71-0c0a6a8bbdc3",
   "metadata": {},
   "source": [
    "# Importing Libraries"
   ]
  },
  {
   "cell_type": "code",
   "execution_count": 1,
   "id": "a749f4fc-288e-4425-8bb9-bc9cca0a34d5",
   "metadata": {},
   "outputs": [],
   "source": [
    "import warnings\n",
    "warnings.filterwarnings('ignore')\n",
    "\n",
    "import pandas as pd\n",
    "import numpy as np\n",
    "from PIL import Image, ImageFile\n",
    "ImageFile.LOAD_TRUNCATED_IMAGES = True\n",
    "\n",
    "import os\n",
    "import glob\n",
    "import matplotlib.pyplot as plt\n",
    "import math\n",
    "import cv2\n",
    "\n",
    "\n",
    "%matplotlib inline"
   ]
  },
  {
   "cell_type": "code",
   "execution_count": 2,
   "id": "9650f3e6-6598-4873-900c-4f86d72117ad",
   "metadata": {},
   "outputs": [],
   "source": [
    "from sklearn.metrics import mean_squared_error, r2_score, mean_absolute_error\n",
    "from sklearn.model_selection import train_test_split\n",
    "from sklearn.preprocessing import MinMaxScaler, StandardScaler\n",
    "from sklearn.model_selection import LeaveOneOut"
   ]
  },
  {
   "cell_type": "markdown",
   "id": "b71c9241-f51e-497c-a448-99e9f97b3294",
   "metadata": {},
   "source": [
    "# Importing Data"
   ]
  },
  {
   "cell_type": "code",
   "execution_count": 3,
   "id": "f93cb9d8-9f19-4dab-b3c8-9da3107ac0b8",
   "metadata": {},
   "outputs": [],
   "source": [
    "data_nail = pd.read_excel(\"merged_data.xlsx\", sheet_name=\"nail\")\n",
    "data_tongue = pd.read_excel(\"merged_data.xlsx\", sheet_name=\"tongue\")\n",
    "data_palm = pd.read_excel(\"merged_data.xlsx\", sheet_name=\"palm\")\n",
    "common_ids = pd.read_excel(\"merged_data.xlsx\", sheet_name=\"common_ids\")"
   ]
  },
  {
   "cell_type": "code",
   "execution_count": 4,
   "id": "87d596ae-864e-4e16-9521-c6a8cb6d2b66",
   "metadata": {},
   "outputs": [],
   "source": [
    "train, test = train_test_split(common_ids, test_size=0.1)\n",
    "train, test = train[\"number\"].tolist(), test[\"number\"].tolist()"
   ]
  },
  {
   "cell_type": "code",
   "execution_count": 5,
   "id": "4dd0c5ad-117f-43b8-8a2e-01367eba132a",
   "metadata": {},
   "outputs": [],
   "source": [
    "nail_train, nail_test = data_nail[data_nail['number'].isin(train)], data_nail[data_nail['number'].isin(test)]\n",
    "tongue_train, tongue_test = data_tongue[data_tongue['number'].isin(train)], data_tongue[data_tongue['number'].isin(test)]\n",
    "palm_train, palm_test = data_palm[data_palm['number'].isin(train)], data_palm[data_palm['number'].isin(test)]"
   ]
  },
  {
   "cell_type": "markdown",
   "id": "791f419d-363d-4707-a6db-87eeafd7395d",
   "metadata": {},
   "source": [
    "## Nail"
   ]
  },
  {
   "cell_type": "code",
   "execution_count": 6,
   "id": "28cc0bc9-df3c-4ddf-adbb-631b900bae89",
   "metadata": {},
   "outputs": [],
   "source": [
    "X_nail_train = nail_train.drop(columns=['number','label']).to_numpy()\n",
    "X_nail_test = nail_test.drop(columns=['number','label']).to_numpy()"
   ]
  },
  {
   "cell_type": "markdown",
   "id": "395132c1-3bba-4176-9ba8-1efc8cd66c45",
   "metadata": {},
   "source": [
    "## Tongue"
   ]
  },
  {
   "cell_type": "code",
   "execution_count": 7,
   "id": "1719063f-0020-424e-bda6-c2d20b3d8f52",
   "metadata": {},
   "outputs": [],
   "source": [
    "X_tongue_train = tongue_train.drop(columns=['number','label']).to_numpy()\n",
    "X_tongue_test = tongue_test.drop(columns=['number','label']).to_numpy()"
   ]
  },
  {
   "cell_type": "markdown",
   "id": "d1f4fb2e-85bf-498f-82f9-5ae54565d2cb",
   "metadata": {},
   "source": [
    "## Palm"
   ]
  },
  {
   "cell_type": "code",
   "execution_count": 8,
   "id": "9e195b51-f89a-4707-bee1-b4e09b1c82c1",
   "metadata": {},
   "outputs": [],
   "source": [
    "X_palm_train = palm_train.drop(columns=['number','label']).to_numpy()\n",
    "X_palm_test = palm_test.drop(columns=['number','label']).to_numpy()"
   ]
  },
  {
   "cell_type": "markdown",
   "id": "4f1ffc6a-01f4-48c3-a2b6-e7bca99a1a67",
   "metadata": {},
   "source": [
    "## Labels"
   ]
  },
  {
   "cell_type": "code",
   "execution_count": 9,
   "id": "d2263f9d-7a26-4905-9fe3-480a62cbde2d",
   "metadata": {},
   "outputs": [],
   "source": [
    "y_train = nail_train['label'].to_numpy()\n",
    "y_test = nail_test['label'].to_numpy()"
   ]
  },
  {
   "cell_type": "markdown",
   "id": "c8978f3f-13c8-4105-b73a-c7e9c6772ef1",
   "metadata": {},
   "source": [
    "# Preprocessing"
   ]
  },
  {
   "cell_type": "code",
   "execution_count": 10,
   "id": "cbf1f719-88b2-45ae-bf95-0112903962ec",
   "metadata": {},
   "outputs": [],
   "source": [
    "scaler = MinMaxScaler(copy=False)\n",
    "# scaler = StandardScaler(copy=False)"
   ]
  },
  {
   "cell_type": "code",
   "execution_count": 11,
   "id": "af1d6595-5a79-4829-9a58-f0382c18b0f9",
   "metadata": {},
   "outputs": [],
   "source": [
    "X_nail_train = scaler.fit_transform(X_nail_train)\n",
    "X_nail_test = scaler.fit_transform(X_nail_test)"
   ]
  },
  {
   "cell_type": "code",
   "execution_count": 12,
   "id": "839ae4f8-b239-4fde-961a-766575b5136b",
   "metadata": {},
   "outputs": [],
   "source": [
    "X_tongue_train = scaler.fit_transform(X_tongue_train)\n",
    "X_tongue_test = scaler.fit_transform(X_tongue_test)"
   ]
  },
  {
   "cell_type": "code",
   "execution_count": 13,
   "id": "911971aa-853c-4d7c-b12f-386790e5e18a",
   "metadata": {},
   "outputs": [],
   "source": [
    "X_palm_train = scaler.fit_transform(X_palm_train)\n",
    "X_palm_test = scaler.fit_transform(X_palm_test)"
   ]
  },
  {
   "cell_type": "markdown",
   "id": "d23adfb3-ef40-460b-8cdb-a5353859bb2e",
   "metadata": {},
   "source": [
    "# Helper Functions"
   ]
  },
  {
   "cell_type": "code",
   "execution_count": 14,
   "id": "884bcd0a-849b-4401-882f-e7aae63aaead",
   "metadata": {},
   "outputs": [],
   "source": [
    "def predict(X,beta,b):\n",
    "    return np.dot(X,beta) + b"
   ]
  },
  {
   "cell_type": "code",
   "execution_count": 15,
   "id": "18bb29f4-3488-4e4c-b85b-ef48bea5ebcf",
   "metadata": {},
   "outputs": [],
   "source": [
    "def loss(y_true,y_hat,y_pred,coeff,mse):\n",
    "    \n",
    "    y_nail, y_tongue, y_palm = y_pred\n",
    "    a, b, c = coeff\n",
    "    mse_nail, mse_tongue, mse_palm = mse\n",
    "\n",
    "    cost = mean_squared_error(y_true, y_hat) + a*mse_nail + b*mse_tongue + c*mse_palm\n",
    "\n",
    "    return cost"
   ]
  },
  {
   "cell_type": "code",
   "execution_count": 16,
   "id": "19a9958a-94af-48a8-a567-e0083458cba6",
   "metadata": {},
   "outputs": [],
   "source": [
    "def gradients(y_true,y_hat,weights,coeff,X,intercept):\n",
    "\n",
    "    weights_nail, weights_tongue, weights_palm = weights\n",
    "    b_nail, b_tongue, b_palm = intercept\n",
    "    X_nail, X_tongue, X_palm = X\n",
    "    a, b, c = coeff\n",
    "    \n",
    "    y_pred_nail = predict(X_nail, beta_nail, b_nail)\n",
    "    y_pred_tongue = predict(X_tongue, beta_tongue, b_tongue)\n",
    "    y_pred_palm = predict(X_palm, beta_palm, b_palm)\n",
    "\n",
    "    N = X_nail.shape[0]\n",
    "\n",
    "    # print(X_nail.shape)\n",
    "    # print(y_true.shape)\n",
    "    # print(y_hat.shape)\n",
    "    # print(y_pred_nail.shape)\n",
    "    \n",
    "    dw_nail = (-2*a)*np.dot(X_nail.T,2*y_true-y_hat-y_pred_nail)/N\n",
    "    dw_tongue = (-2*b)*np.dot(X_tongue.T,2*y_true-y_hat-y_pred_tongue)/N\n",
    "    dw_palm = (-2*c)*np.dot(X_palm.T,2*y_true-y_hat-y_pred_palm)/N\n",
    "\n",
    "    db_nail = (-2*a/N)*np.sum(2*y_true-y_hat-y_pred_nail)\n",
    "    db_tongue = (-2*b/N)*np.sum(2*y_true-y_hat-y_pred_tongue)\n",
    "    db_palm = (-2*c/N)*np.sum(2*y_true-y_hat-y_pred_palm)\n",
    "\n",
    "    da = (np.dot(y_true,y_true) - 4*np.dot(y_true,y_pred_nail) + np.dot(y_pred_nail,y_pred_nail) - np.dot(y_hat,y_pred_nail))/N\n",
    "    db = (np.dot(y_true,y_true) - 4*np.dot(y_true,y_pred_tongue) + np.dot(y_pred_tongue,y_pred_tongue) - np.dot(y_hat,y_pred_tongue))/N\n",
    "    dc = (np.dot(y_true,y_true) - 4*np.dot(y_true,y_pred_palm) + np.dot(y_pred_palm,y_pred_palm) - np.dot(y_hat,y_pred_palm))/N\n",
    "    \n",
    "\n",
    "    return [dw_nail, dw_tongue, dw_palm, db_nail, db_tongue, db_palm, da, db, dc]"
   ]
  },
  {
   "cell_type": "code",
   "execution_count": 17,
   "id": "16bf651b-a599-431a-99fd-480e1a8f2cc1",
   "metadata": {},
   "outputs": [],
   "source": [
    "def sq_sum(a,b,c):\n",
    "    return math.sqrt(a**2 + b**2 + c**2)"
   ]
  },
  {
   "cell_type": "markdown",
   "id": "266c2fa5-88b1-45e7-91f7-664a12bb91a5",
   "metadata": {},
   "source": [
    "# Driver Code"
   ]
  },
  {
   "cell_type": "markdown",
   "id": "587cd0cc-f8f5-43ab-920b-fabab5e38de2",
   "metadata": {},
   "source": [
    "## Initilisation "
   ]
  },
  {
   "cell_type": "code",
   "execution_count": 18,
   "id": "5028d63d-76ca-46c5-84b3-d6470634b973",
   "metadata": {},
   "outputs": [
    {
     "name": "stdout",
     "output_type": "stream",
     "text": [
      "Shape of training data is (234, 14)\n"
     ]
    }
   ],
   "source": [
    "a, b, c = 0.0, 0.0, 0.0\n",
    "\n",
    "features = X_nail_train.shape[1]\n",
    "\n",
    "beta_nail = np.array([1.0]*features)\n",
    "b_nail = 1.0\n",
    "\n",
    "beta_tongue = np.array([1.0]*features)\n",
    "b_tongue = 1.0\n",
    "\n",
    "beta_palm = np.array([1.0]*features)\n",
    "b_palm = 1.0\n",
    "\n",
    "train_loss = []\n",
    "mse_nail_loss = []\n",
    "mse_tongue_loss = []\n",
    "mse_palm_loss = []\n",
    "\n",
    "y_hat_train_test_list = []\n",
    "y_train_test_list = []\n",
    "\n",
    "alpha = 0.1\n",
    "iterations = 5\n",
    "\n",
    "print(f\"Shape of training data is {X_nail_train.shape}\")"
   ]
  },
  {
   "cell_type": "markdown",
   "id": "64ebca6b-ef86-4cc7-9b40-a182a2cac111",
   "metadata": {},
   "source": [
    "## Training"
   ]
  },
  {
   "cell_type": "code",
   "execution_count": 19,
   "id": "66a4e91b-0c79-4b7c-b905-acfd506dc5f4",
   "metadata": {},
   "outputs": [],
   "source": [
    "# create loocv procedure\n",
    "cv = LeaveOneOut()"
   ]
  },
  {
   "cell_type": "code",
   "execution_count": 20,
   "id": "d3b23bda-81a2-447b-bd5c-f88707545ead",
   "metadata": {},
   "outputs": [
    {
     "name": "stdout",
     "output_type": "stream",
     "text": [
      "Training Complete\n",
      "-----------------------------------------------------------------------------------------\n",
      "Mean Absolute Error is 3.1906\n",
      "R-square is -2.2332\n",
      "Mean Squared Error is 12.9178\n",
      "-----------------------------------------------------------------------------------------\n"
     ]
    },
    {
     "data": {
      "image/png": "[encoded data removed]",
      "text/plain": [
       "<Figure size 640x480 with 4 Axes>"
      ]
     },
     "metadata": {},
     "output_type": "display_data"
    }
   ],
   "source": [
    "for train_ix, test_ix in cv.split(X_tongue_train):\n",
    "    \n",
    "    # split data\n",
    "    X_nail_train_train, X_nail_train_test = X_nail_train[train_ix, :], X_nail_train[test_ix, :]\n",
    "    X_tongue_train_train, X_tongue_train_test = X_tongue_train[train_ix, :], X_tongue_train[test_ix, :]\n",
    "    X_palm_train_train, X_palm_train_test = X_palm_train[train_ix, :], X_palm_train[test_ix, :]    \n",
    "    \n",
    "    y_train_train, y_train_test = y_train[train_ix], y_train[test_ix]\n",
    "\n",
    "    # TRAINING\n",
    "    for i in range(iterations):\n",
    "    \n",
    "        # print(f\"-----------------------------------------------------------------------------------------\")\n",
    "        # print(f\"Iteration {i+1}\")\n",
    "    \n",
    "        \n",
    "        # PREDICTION\n",
    "        y_pred_nail = predict(X_nail_train_train, beta_nail, b_nail)\n",
    "        y_pred_tongue = predict(X_tongue_train_train, beta_tongue, b_tongue)\n",
    "        y_pred_palm = predict(X_palm_train_train, beta_palm, b_palm)\n",
    "    \n",
    "        # print(f\"actual prediction = {y_train}\")    \n",
    "        # print(f\"beta coeff of nail = {beta_nail}\")\n",
    "        # print(f\"prediction of tongue = {y_pred_tongue}\")\n",
    "        # print(f\"prediction of palm = {y_pred_palm}\")\n",
    "    \n",
    "        \n",
    "        # MEAN SQUARED ERROR\n",
    "        mse_nail = mean_squared_error(y_train_train, y_pred_nail)\n",
    "        mse_tongue = mean_squared_error(y_train_train, y_pred_tongue)\n",
    "        mse_palm = mean_squared_error(y_train_train, y_pred_palm)\n",
    "        \n",
    "        mse_nail_loss.append(mse_nail)\n",
    "        mse_tongue_loss.append(mse_tongue)\n",
    "        mse_palm_loss.append(mse_palm)\n",
    "    \n",
    "      \n",
    "        # print(f\"mse of nail = {mse_nail}\")\n",
    "        # print(f\"mse of tongue = {mse_tongue}\")\n",
    "        # print(f\"mse of palm = {mse_palm}\")\n",
    "    \n",
    "        \n",
    "        # # SUM OF SQUARES OF COEFF = 1\n",
    "        # denom = sq_sum(a,b,c)\n",
    "        # a, b, c = a/denom, b/denom, c/denom\n",
    "    \n",
    "        \n",
    "        # FINAL PREDICTION\n",
    "        y_hat = a*y_pred_nail + b*y_pred_tongue + c*y_pred_palm\n",
    "        # print(f\"prediction = {y_hat}\")\n",
    "        # print(f\"mse overall = {mean_squared_error(y_train, y_hat)}\")\n",
    "    \n",
    "        \n",
    "        # LOSS FUNCTION ATTRIBUTES\n",
    "        y_pred = [y_pred_nail, y_pred_tongue, y_pred_palm]\n",
    "        coeff = [a, b, c]\n",
    "        weights = [beta_nail, beta_tongue, beta_palm]\n",
    "        mse = [mse_nail, mse_tongue, mse_palm]\n",
    "        X = [X_nail_train_train, X_tongue_train_train, X_palm_train_train]\n",
    "        intercept = [b_nail, b_tongue, b_palm]\n",
    "    \n",
    "        \n",
    "        # LOSS FUNCTION\n",
    "        train_loss.append(loss(y_train_train,y_hat,y_pred,coeff,mse))\n",
    "        \n",
    "        \n",
    "        # GRADIENTS\n",
    "        dw = gradients(y_train_train,y_hat,weights,coeff,X,intercept)\n",
    "        dw_nail, dw_tongue, dw_palm, db_nail, db_tongue, db_palm, da, db, dc = dw\n",
    "    \n",
    "        \n",
    "        # UPDATING PARAMETERS\n",
    "        beta_nail -= alpha*dw_nail\n",
    "        beta_tongue -= alpha*dw_tongue\n",
    "        beta_palm -= alpha*dw_palm\n",
    "        \n",
    "        b_nail -= alpha*db_nail\n",
    "        b_tongue -= alpha*db_tongue\n",
    "        b_palm -= alpha*db_palm\n",
    "        \n",
    "        a -= alpha*da \n",
    "        b -= alpha*db \n",
    "        c -= alpha*dc\n",
    "    \n",
    "        # SUM OF SQUARES OF COEFF = 1\n",
    "        denom = sq_sum(a,b,c)\n",
    "        a, b, c = a/denom, b/denom, c/denom\n",
    "\n",
    "    # TESTING\n",
    "    y_pred_nail = predict(X_nail_train_test, beta_nail, b_nail)\n",
    "    y_pred_tongue = predict(X_tongue_train_test, beta_tongue, b_tongue)\n",
    "    y_pred_palm = predict(X_palm_train_test, beta_palm, b_palm)\n",
    "\n",
    "    y_hat_train_test = a*y_pred_nail + b*y_pred_tongue + c*y_pred_palm\n",
    "    y_hat_train_test_list.append(y_hat_train_test)\n",
    "\n",
    "    y_train_test_list.append(y_train_test)\n",
    "\n",
    "print(\"Training Complete\")\n",
    "\n",
    "\n",
    "print(f\"-----------------------------------------------------------------------------------------\")\n",
    "print(f\"Mean Absolute Error is {round(mean_absolute_error(np.array(y_train_test_list), np.array(y_hat_train_test_list)),4)}\")\n",
    "print(f\"R-square is {round(r2_score(np.array(y_train_test_list), np.array(y_hat_train_test_list)),4)}\")\n",
    "print(f\"Mean Squared Error is {round(mean_squared_error(np.array(y_train_test_list), np.array(y_hat_train_test_list)),4)}\")\n",
    "print(f\"-----------------------------------------------------------------------------------------\")\n",
    "\n",
    "\n",
    "\n",
    "# Plotting Nail Loss\n",
    "plt.subplot(2,2,1)\n",
    "plt.plot(mse_nail_loss)\n",
    "plt.title(\"Nail Loss\")\n",
    "\n",
    "# Plotting Tongue Loss\n",
    "plt.subplot(2,2,2)\n",
    "plt.plot(mse_tongue_loss)\n",
    "plt.title(\"Tongue Loss\")\n",
    "\n",
    "# Plotting Palm Loss\n",
    "plt.subplot(2,2,3)\n",
    "plt.plot(mse_palm_loss)\n",
    "plt.title(\"Palm Loss\")\n",
    "\n",
    "# Plotting Total Loss\n",
    "plt.subplot(2,2,4)\n",
    "plt.plot(train_loss)\n",
    "plt.title(\"Total Loss\")\n",
    "\n",
    "plt.suptitle(\"All Losses\")\n",
    "plt.subplots_adjust(hspace=0.5, wspace=0.5)\n",
    "plt.show()"
   ]
  },
  {
   "cell_type": "code",
   "execution_count": 21,
   "id": "e0a1f8b6-3375-41bb-9877-82dc54b069a2",
   "metadata": {},
   "outputs": [
    {
     "name": "stdout",
     "output_type": "stream",
     "text": [
      "coeff of nail = 0.5772105766235797\n",
      "coeff of tongue = 0.576560181891429\n",
      "coeff of palm = 0.578278744976155\n"
     ]
    }
   ],
   "source": [
    "print(f\"coeff of nail = {a}\")\n",
    "print(f\"coeff of tongue = {b}\")\n",
    "print(f\"coeff of palm = {c}\")"
   ]
  },
  {
   "cell_type": "code",
   "execution_count": 22,
   "id": "a744d553-1ab1-4e14-adeb-710ee821b2c8",
   "metadata": {},
   "outputs": [
    {
     "name": "stdout",
     "output_type": "stream",
     "text": [
      "Mean of last 50 values of training loss is 33.9382\n",
      "Standard Deviation in last 50 values of training loss is 0.0706\n"
     ]
    }
   ],
   "source": [
    "print(f\"Mean of last 50 values of training loss is {round(np.mean(np.array(train_loss[-50:])),4)}\")\n",
    "print(f\"Standard Deviation in last 50 values of training loss is {round(np.std(np.array(train_loss[-50:])),4)}\")"
   ]
  },
  {
   "cell_type": "code",
   "execution_count": 23,
   "id": "52f3ead7-c555-42a8-ba38-0670905b56f0",
   "metadata": {},
   "outputs": [
    {
     "name": "stdout",
     "output_type": "stream",
     "text": [
      "Mean of last 50 values of nail loss is 12.5152\n",
      "Standard Deviation in last 50 values of nail loss is 0.0436\n"
     ]
    }
   ],
   "source": [
    "print(f\"Mean of last 50 values of nail loss is {round(np.mean(np.array(mse_nail_loss[-50:])),4)}\")\n",
    "print(f\"Standard Deviation in last 50 values of nail loss is {round(np.std(np.array(mse_nail_loss[-50:])),4)}\")"
   ]
  },
  {
   "cell_type": "code",
   "execution_count": 24,
   "id": "81037a79-6c57-4914-90bc-b5866598c0ff",
   "metadata": {},
   "outputs": [
    {
     "name": "stdout",
     "output_type": "stream",
     "text": [
      "Mean of last 50 values of tongue loss is 12.5924\n",
      "Standard Deviation in last 50 values of tongue loss is 0.0419\n"
     ]
    }
   ],
   "source": [
    "print(f\"Mean of last 50 values of tongue loss is {round(np.mean(np.array(mse_tongue_loss[-50:])),4)}\")\n",
    "print(f\"Standard Deviation in last 50 values of tongue loss is {round(np.std(np.array(mse_tongue_loss[-50:])),4)}\")"
   ]
  },
  {
   "cell_type": "code",
   "execution_count": 25,
   "id": "d5f597e8-7131-4c5b-91a3-cc4f8a5df4b4",
   "metadata": {},
   "outputs": [
    {
     "name": "stdout",
     "output_type": "stream",
     "text": [
      "Mean of last 50 values of palm loss is 12.3918\n",
      "Standard Deviation in last 50 values of palm loss is 0.0411\n"
     ]
    }
   ],
   "source": [
    "print(f\"Mean of last 50 values of palm loss is {round(np.mean(np.array(mse_palm_loss[-50:])),4)}\")\n",
    "print(f\"Standard Deviation in last 50 values of palm loss is {round(np.std(np.array(mse_palm_loss[-50:])),4)}\")"
   ]
  },
  {
   "cell_type": "code",
   "execution_count": 26,
   "id": "7bccafef-51ce-42a7-a979-0b1709e4ca5d",
   "metadata": {},
   "outputs": [
    {
     "name": "stdout",
     "output_type": "stream",
     "text": [
      "beta coeff of nail = [-0.89969892 -0.52054846  2.4906228   2.69108973 -0.36680427 -0.24462929\n",
      " -0.70905208 -0.25358204 -0.48479323  0.19608682  0.48760065 -0.70905208\n",
      " -1.27893366 -1.4346409 ]\n",
      "-----------------------------------------------------------------------------------------\n",
      "beta coeff of tongue = [-0.70091751  0.44138705  0.9463737  -0.52802672  1.50936588  0.64555457\n",
      " -0.24440927 -0.64686011 -0.03065603 -0.56985482 -0.88174061 -0.24440927\n",
      " -1.54831571 -1.43538538]\n",
      "-----------------------------------------------------------------------------------------\n",
      "beta coeff of palm = [-0.42059614 -0.40350403  3.75704983  1.61050933  1.18162297  2.45713233\n",
      " -0.51422678 -0.4969403   0.08852982 -0.27644386  0.02314258 -0.51422678\n",
      " -1.2079308  -1.3461302 ]\n"
     ]
    }
   ],
   "source": [
    "print(f\"beta coeff of nail = {beta_nail}\")    \n",
    "print(f\"-----------------------------------------------------------------------------------------\")\n",
    "print(f\"beta coeff of tongue = {beta_tongue}\")\n",
    "print(f\"-----------------------------------------------------------------------------------------\")\n",
    "print(f\"beta coeff of palm = {beta_palm}\")"
   ]
  },
  {
   "cell_type": "code",
   "execution_count": 27,
   "id": "2d6d5b24-fcef-47ee-8397-894a613d40b6",
   "metadata": {},
   "outputs": [
    {
     "name": "stdout",
     "output_type": "stream",
     "text": [
      "intercept coeff of nail = 9.17724533142566\n",
      "intercept coeff of tongue = 9.95622755692674\n",
      "intercept coeff of palm = 6.799411953785961\n"
     ]
    }
   ],
   "source": [
    "print(f\"intercept coeff of nail = {b_nail}\")\n",
    "print(f\"intercept coeff of tongue = {b_tongue}\")\n",
    "print(f\"intercept coeff of palm = {b_palm}\")"
   ]
  },
  {
   "cell_type": "markdown",
   "id": "7901bea9-0a37-46e3-ba56-f65671f2fc10",
   "metadata": {},
   "source": [
    "# Testing"
   ]
  },
  {
   "cell_type": "code",
   "execution_count": 28,
   "id": "b428fef8-3abe-4ca6-adf7-0421d83f517b",
   "metadata": {},
   "outputs": [
    {
     "name": "stdout",
     "output_type": "stream",
     "text": [
      "Shape of training data is (26, 14)\n"
     ]
    }
   ],
   "source": [
    "print(f\"Shape of training data is {X_nail_test.shape}\")"
   ]
  },
  {
   "cell_type": "code",
   "execution_count": 29,
   "id": "f4b1accb-ee24-4615-82b8-f6666d2bc1d0",
   "metadata": {},
   "outputs": [],
   "source": [
    "y_pred_nail = predict(X_nail_test, beta_nail, b_nail)\n",
    "y_pred_tongue = predict(X_tongue_test, beta_tongue, b_tongue)\n",
    "y_pred_palm = predict(X_palm_test, beta_palm, b_palm)"
   ]
  },
  {
   "cell_type": "code",
   "execution_count": 30,
   "id": "b015baad-cd3b-492f-93cc-735944e5811e",
   "metadata": {},
   "outputs": [],
   "source": [
    "y_test\n",
    "y_hat_test = a*y_pred_nail + b*y_pred_tongue + c*y_pred_palm"
   ]
  },
  {
   "cell_type": "code",
   "execution_count": 31,
   "id": "6d833127-c562-4748-9814-f6e231e902a3",
   "metadata": {},
   "outputs": [
    {
     "name": "stdout",
     "output_type": "stream",
     "text": [
      "Mean Absolute Error is 2.9035\n"
     ]
    }
   ],
   "source": [
    "print(f\"Mean Absolute Error is {round(mean_absolute_error(y_test, y_hat_test),4)}\")"
   ]
  },
  {
   "cell_type": "code",
   "execution_count": 32,
   "id": "41cfe2a8-2987-4295-891d-971541f10ed6",
   "metadata": {},
   "outputs": [
    {
     "name": "stdout",
     "output_type": "stream",
     "text": [
      "R-Square is -2.7134\n"
     ]
    }
   ],
   "source": [
    "print(f\"R-Square is {round(r2_score(y_test, y_hat_test),4)}\")"
   ]
  },
  {
   "cell_type": "code",
   "execution_count": 33,
   "id": "140cc8d1-01ba-42f6-9278-5cdac09a080f",
   "metadata": {},
   "outputs": [
    {
     "name": "stdout",
     "output_type": "stream",
     "text": [
      "Mean Squared Error is 10.6664\n"
     ]
    }
   ],
   "source": [
    "print(f\"Mean Squared Error is {round(mean_squared_error(y_test, y_hat_test),4)}\")"
   ]
  },
  {
   "cell_type": "code",
   "execution_count": null,
   "id": "a9d998d8-361f-4d90-8f7f-ea13fa2f3ff5",
   "metadata": {},
   "outputs": [],
   "source": []
  }
 ],
 "metadata": {
  "kernelspec": {
   "display_name": "Python 3 (ipykernel)",
   "language": "python",
   "name": "python3"
  },
  "language_info": {
   "codemirror_mode": {
    "name": "ipython",
    "version": 3
   },
   "file_extension": ".py",
   "mimetype": "text/x-python",
   "name": "python",
   "nbconvert_exporter": "python",
   "pygments_lexer": "ipython3",
   "version": "3.11.8"
  }
 },
 "nbformat": 4,
 "nbformat_minor": 5
}
