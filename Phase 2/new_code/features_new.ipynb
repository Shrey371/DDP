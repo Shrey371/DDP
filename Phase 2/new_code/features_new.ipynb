{
 "cells": [
  {
   "cell_type": "markdown",
   "id": "49e6fe94-462e-40e7-b69a-89366475e752",
   "metadata": {},
   "source": [
    "# Importing Libraries"
   ]
  },
  {
   "cell_type": "code",
   "execution_count": 1,
   "id": "b844880d-d9c4-48af-af18-999f9210b0c4",
   "metadata": {},
   "outputs": [],
   "source": [
    "import warnings\n",
    "warnings.filterwarnings('ignore')\n",
    "\n",
    "import pandas as pd\n",
    "import numpy as np\n",
    "from PIL import Image, ImageFile\n",
    "ImageFile.LOAD_TRUNCATED_IMAGES = True\n",
    "\n",
    "import os\n",
    "import glob\n",
    "import matplotlib.pyplot as plt\n",
    "import math\n",
    "import cv2\n",
    "\n",
    "\n",
    "%matplotlib inline"
   ]
  },
  {
   "cell_type": "markdown",
   "id": "3f31778d-2d9e-4470-bc66-830432cca737",
   "metadata": {},
   "source": [
    "# Features"
   ]
  },
  {
   "cell_type": "markdown",
   "id": "68853759-7c90-4b2a-85ae-1aadfddea169",
   "metadata": {},
   "source": [
    "## Feature Functions"
   ]
  },
  {
   "cell_type": "code",
   "execution_count": 5,
   "id": "12213c99-25ca-4358-a175-4d75000e8033",
   "metadata": {},
   "outputs": [],
   "source": [
    "def resize(img,size):\n",
    "    \"\"\"size is a tuple\"\"\"\n",
    "    \"\"\" returns resized images\"\"\"\n",
    "    return cv2.resize(img,size)\n",
    "\n",
    "def to_hsv(img):\n",
    "    \"\"\"return image in HSV space\"\"\"\n",
    "    return cv2.cvtColor(img,cv2.COLOR_RGB2HSV)\n",
    "\n",
    "def to_gray(img):\n",
    "    \"\"\"return image in gray space\"\"\"\n",
    "    return cv2.cvtColor(img,cv2.COLOR_RGB2GRAY)\n",
    "\n",
    "def sum_rgb(img):\n",
    "    r_sum = g_sum = b_sum = rg_sum = count = 0\n",
    "    for i in img:\n",
    "        for j in i:\n",
    "            if (j[0] > 20 and j[0] < 240 and j[1] > 20 and j[1] < 240 and j[2] > 20 and j[2] < 240):\n",
    "                r_sum += j[0]\n",
    "                g_sum += j[1]\n",
    "                b_sum += j[2]\n",
    "                rg_sum += j[0] - j[1]\n",
    "                count += 1\n",
    "\n",
    "    return [r_sum,g_sum,b_sum,rg_sum,count]\n",
    "\n",
    "# Assuming img is a 3D NumPy array with shape (height, width, 3) representing an RGB image\n",
    "def new_sum(img):\n",
    "    # Create a boolean mask where each pixel is within the specified RGB range\n",
    "    mask = (img[:, :, 0] > 20) & (img[:, :, 0] < 240) & \\\n",
    "           (img[:, :, 1] > 20) & (img[:, :, 1] < 240) & \\\n",
    "           (img[:, :, 2] > 20) & (img[:, :, 2] < 240)\n",
    "\n",
    "    # Use the mask to filter the pixels within the specified RGB range\n",
    "    filtered_pixels = img[mask]\n",
    "\n",
    "    # Calculate the sums of the RGB values for the filtered pixels\n",
    "    sum_r = np.sum(filtered_pixels[:, 0])\n",
    "    sum_g = np.sum(filtered_pixels[:, 1])\n",
    "    sum_b = np.sum(filtered_pixels[:, 2])\n",
    "    sum_rg = sum_r - sum_g\n",
    "\n",
    "    return [sum_r, sum_g, sum_b, sum_rg, np.count_nonzero(filtered_pixels[:, 0])]\n",
    "\n",
    "def sum(arr):\n",
    "    # \"\"\"returns sum and no. of pixels between 20 and 240\"\"\"\n",
    "    # sum = 0\n",
    "    # count = 0\n",
    "    # for i in arr:\n",
    "    #     for j in i:\n",
    "    #         if(j>20 and j<240): #only pixels whose value is between 20 and 240\n",
    "    #             sum+=j\n",
    "    #             count+=1\n",
    "\n",
    "    #only pixels whose value is between 20 and 240\n",
    "    arr = arr[arr>20]\n",
    "    arr = arr[arr<240]\n",
    "\n",
    "    return (arr.sum(), arr.size)\n",
    "\n",
    "    # return (sum,count)\n",
    "\n",
    "def pooling(image, pool_size, code, padding):\n",
    "    \"\"\"\n",
    "    different codes for different pooling\n",
    "    code min :min pooling\n",
    "    code max :max pooling \n",
    "    code mean :mean pooling \n",
    "    code std :standard deviation pooling\n",
    "    returns a image with padding operation and pooling operation\n",
    "    \"\"\"\n",
    "\n",
    "    padded = arr = np.zeros((image.shape[0] + padding*2, \n",
    "                       image.shape[1] + padding*2))\n",
    "    \n",
    "    #  inserting image into zero array\n",
    "    padded[int(padding):-int(padding), int(padding):-int(padding)] = image\n",
    "    \n",
    "    \n",
    "    # print(f'original image size: {image.shape}')\n",
    "    # print(f'padded image size: {padded.shape}')\n",
    "\n",
    "    input_height, input_width = padded.shape\n",
    "    pool_height, pool_width = pool_size\n",
    "\n",
    "    # Calculate the output dimensions\n",
    "    output_height = input_height - pool_height + 1\n",
    "    output_width = input_width - pool_width + 1\n",
    "\n",
    "    # Initialize the output data\n",
    "    output_data = np.zeros((output_height, output_width))\n",
    "\n",
    "    for i in range(output_height):\n",
    "        for j in range(output_width):\n",
    "            # Extract the region of interest (ROI)\n",
    "            roi = padded[i : i + pool_height, j : j + pool_width]\n",
    "            \n",
    "            if code=='min':\n",
    "                # Apply min pooling within the ROI\n",
    "                output_data[i, j] = np.min(roi)\n",
    "\n",
    "            if code=='max':\n",
    "                # Apply max pooling within the ROI\n",
    "                output_data[i, j] = np.max(roi)\n",
    "\n",
    "            if code=='mean':\n",
    "                # Apply mean pooling within the ROI\n",
    "                output_data[i, j] = np.mean(roi)\n",
    "\n",
    "            if code=='std':\n",
    "                # Apply min pooling within the ROI\n",
    "                output_data[i, j] = np.std(roi)\n",
    "\n",
    "\n",
    "    # print(f'{code} pooled image size: {output_data.shape}')\n",
    "    return output_data"
   ]
  },
  {
   "cell_type": "markdown",
   "id": "d9a59955-18d0-47d1-bf54-f77bcebbb2e7",
   "metadata": {},
   "source": [
    "## Calling Function\n",
    "\n",
    "The image should be in RGB format"
   ]
  },
  {
   "cell_type": "code",
   "execution_count": 12,
   "id": "6c43d563-c13f-4dad-972f-f56d9342ae03",
   "metadata": {},
   "outputs": [],
   "source": [
    "def feature(data):\n",
    "    \"\"\"Return all the 12 features as a numpy array\"\"\"\n",
    "    uid,img,label = data\n",
    "    img = resize(img,(250,250))\n",
    "\n",
    "    #RGB SPACE\n",
    "    sum_img = new_sum(img)  # NEW SUM FUNCTION\n",
    "    count = sum_img.pop()\n",
    "    mean_features = [i/count for i in sum_img]\n",
    "    mean_r,mean_g,mean_b,mean_rg = mean_features\n",
    "    # 4 features done in RGB SPACE\n",
    "\n",
    "    \n",
    "    #HSV SPACE\n",
    "    hsv = to_hsv(img)\n",
    "    h,s,v = cv2.split(hsv)\n",
    "    _,h_counts = sum(h)\n",
    "    h = h/h.max()\n",
    "    nH = np.count_nonzero(h>0.95)\n",
    "    HHR = nH/h_counts\n",
    "    # HHR found\n",
    "\n",
    "    \n",
    "    #GRAY SPACE\n",
    "    gray = to_gray(img)\n",
    "    B_sum, B_size = sum(gray)\n",
    "    B = B_sum/B_size # FOUND B\n",
    "\n",
    "    #ENTROPY in gray space\n",
    "    eq = cv2.equalizeHist(gray)\n",
    "    unique, counts = np.unique(eq, return_counts=True)\n",
    "    #only pixels whose value is between 20 and 240\n",
    "    total_counts = counts[21:241].sum() \n",
    "    Ent = np.sum(np.array([-i*(i/total_counts)*math.log((i/total_counts),2) for i in counts[21:241]])) #Found Entropy\n",
    "\n",
    "    #Calculating the 'G' features\n",
    "    Ixy = gray\n",
    "    min_Ixy = pooling(image=Ixy, pool_size=(3,3), code='min', padding=1)\n",
    "    max_Ixy = pooling(image=Ixy, pool_size=(3,3), code='max', padding=1)\n",
    "    mean_Ixy = pooling(image=Ixy, pool_size=(3,3), code='mean', padding=1)\n",
    "    std_Ixy = pooling(image=Ixy, pool_size=(3,3), code='std', padding=1)\n",
    "    \n",
    "    g1 = Ixy - min_Ixy\n",
    "    g2 = max_Ixy - Ixy\n",
    "    g3 = Ixy - mean_Ixy\n",
    "    g4 = std_Ixy\n",
    "    g5 = Ixy\n",
    "    \n",
    "    G1 = sum(g1)[0]/sum(g1)[1]\n",
    "    G2 = sum(g2)[0]/sum(g2)[1]\n",
    "    G3 = sum(g3)[0]/sum(g3)[1]\n",
    "    G4 = sum(g4)[0]/sum(g4)[1]\n",
    "    G5 = sum(g5)[0]/sum(g5)[1]\n",
    "\n",
    "    feature_all = [uid,mean_r,mean_g,mean_b,mean_rg,HHR,Ent,B,G1,G2,G3,G4,G5,label]\n",
    "    return feature_all"
   ]
  },
  {
   "cell_type": "markdown",
   "id": "ec183739-5c5c-4f87-884b-ea7d17a95cff",
   "metadata": {},
   "source": [
    "# Right Nail Data"
   ]
  },
  {
   "cell_type": "code",
   "execution_count": 13,
   "id": "fb9505f6-7666-4a85-bd1e-de7c0900f837",
   "metadata": {},
   "outputs": [],
   "source": [
    "mask_right_nail_files = glob.glob(\"../../Field Data/Individual Anatomy/Galaxy M34/Right Fingernail_files/right_nail_segmask/SegmentationClass/*.png\")\n",
    "right_nail_path = \"../../Field Data/Individual Anatomy/Galaxy M34/Right Fingernail_files/Images_right_fingernail\\\\\""
   ]
  },
  {
   "cell_type": "code",
   "execution_count": 14,
   "id": "2202bb9d-5d21-433e-8b70-ee8b6493569b",
   "metadata": {},
   "outputs": [
    {
     "data": {
      "text/html": [
       "<div>\n",
       "<style scoped>\n",
       "    .dataframe tbody tr th:only-of-type {\n",
       "        vertical-align: middle;\n",
       "    }\n",
       "\n",
       "    .dataframe tbody tr th {\n",
       "        vertical-align: top;\n",
       "    }\n",
       "\n",
       "    .dataframe thead th {\n",
       "        text-align: right;\n",
       "    }\n",
       "</style>\n",
       "<table border=\"1\" class=\"dataframe\">\n",
       "  <thead>\n",
       "    <tr style=\"text-align: right;\">\n",
       "      <th></th>\n",
       "      <th>Annotated_Data</th>\n",
       "      <th>Avaiable ID</th>\n",
       "      <th>Hb Value</th>\n",
       "      <th>Unnamed: 3</th>\n",
       "      <th>Unnamed: 4</th>\n",
       "      <th>Unnamed: 5</th>\n",
       "      <th>Unnamed: 6</th>\n",
       "      <th>Unnamed: 7</th>\n",
       "    </tr>\n",
       "  </thead>\n",
       "  <tbody>\n",
       "    <tr>\n",
       "      <th>0</th>\n",
       "      <td>1709617374918.jpg</td>\n",
       "      <td>202403051</td>\n",
       "      <td>11.5</td>\n",
       "      <td>NaN</td>\n",
       "      <td>NaN</td>\n",
       "      <td>NaN</td>\n",
       "      <td>Average</td>\n",
       "      <td>11.563</td>\n",
       "    </tr>\n",
       "    <tr>\n",
       "      <th>1</th>\n",
       "      <td>1709617703730.jpg</td>\n",
       "      <td>202403052</td>\n",
       "      <td>11.6</td>\n",
       "      <td>NaN</td>\n",
       "      <td>NaN</td>\n",
       "      <td>NaN</td>\n",
       "      <td>NaN</td>\n",
       "      <td>NaN</td>\n",
       "    </tr>\n",
       "    <tr>\n",
       "      <th>2</th>\n",
       "      <td>1709618658975.jpg</td>\n",
       "      <td>202403056</td>\n",
       "      <td>11.1</td>\n",
       "      <td>NaN</td>\n",
       "      <td>NaN</td>\n",
       "      <td>NaN</td>\n",
       "      <td>NaN</td>\n",
       "      <td>NaN</td>\n",
       "    </tr>\n",
       "    <tr>\n",
       "      <th>3</th>\n",
       "      <td>1709619498294.jpg</td>\n",
       "      <td>202403058</td>\n",
       "      <td>12.1</td>\n",
       "      <td>NaN</td>\n",
       "      <td>NaN</td>\n",
       "      <td>NaN</td>\n",
       "      <td>NaN</td>\n",
       "      <td>NaN</td>\n",
       "    </tr>\n",
       "    <tr>\n",
       "      <th>4</th>\n",
       "      <td>1709620017738.jpg</td>\n",
       "      <td>202403059</td>\n",
       "      <td>12.2</td>\n",
       "      <td>NaN</td>\n",
       "      <td>NaN</td>\n",
       "      <td>NaN</td>\n",
       "      <td>NaN</td>\n",
       "      <td>NaN</td>\n",
       "    </tr>\n",
       "  </tbody>\n",
       "</table>\n",
       "</div>"
      ],
      "text/plain": [
       "      Annotated_Data  Avaiable ID  Hb Value  Unnamed: 3  Unnamed: 4  \\\n",
       "0  1709617374918.jpg    202403051      11.5         NaN         NaN   \n",
       "1  1709617703730.jpg    202403052      11.6         NaN         NaN   \n",
       "2  1709618658975.jpg    202403056      11.1         NaN         NaN   \n",
       "3  1709619498294.jpg    202403058      12.1         NaN         NaN   \n",
       "4  1709620017738.jpg    202403059      12.2         NaN         NaN   \n",
       "\n",
       "   Unnamed: 5 Unnamed: 6  Unnamed: 7  \n",
       "0         NaN    Average      11.563  \n",
       "1         NaN        NaN         NaN  \n",
       "2         NaN        NaN         NaN  \n",
       "3         NaN        NaN         NaN  \n",
       "4         NaN        NaN         NaN  "
      ]
     },
     "execution_count": 14,
     "metadata": {},
     "output_type": "execute_result"
    }
   ],
   "source": [
    "right_nail_truth = pd.read_csv(\"annotations_right_nail.csv\")\n",
    "right_nail_truth.head(5)"
   ]
  },
  {
   "cell_type": "markdown",
   "id": "20fee315-5182-41aa-ad17-63696e69ab5a",
   "metadata": {},
   "source": [
    "## Dataset Creation"
   ]
  },
  {
   "cell_type": "code",
   "execution_count": 62,
   "id": "0a465dac-221a-4c79-b1d6-ec3b2ffaa14b",
   "metadata": {},
   "outputs": [],
   "source": [
    "Total_Data = []\n",
    "error_names = []\n",
    "\n",
    "for mask_path in mask_right_nail_files:\n",
    "    try:\n",
    "        name = mask_path.split(\"\\\\\")[-1].split(\".\")[0] + \".jpg\"\n",
    "        \n",
    "        mask_bgr = cv2.imread(mask_path)\n",
    "        img_bgr = cv2.imread(right_nail_path + name)\n",
    "        mask = cv2.cvtColor(mask_bgr,cv2.COLOR_BGR2GRAY)\n",
    "        img = cv2.cvtColor(img_bgr,cv2.COLOR_BGR2RGB)\n",
    "    \n",
    "        roi = cv2.bitwise_and(img, img, mask = mask)\n",
    "    \n",
    "        uid = right_nail_truth[right_nail_truth['Annotated_Data'] == name][\"Avaiable ID\"].tolist()[0]\n",
    "    \n",
    "        label = right_nail_truth[right_nail_truth['Annotated_Data'] == name][\"Hb Value\"].tolist()[0]\n",
    "    \n",
    "        data_sent = [uid,roi,label]\n",
    "    \n",
    "        features = feature(data_sent)\n",
    "    \n",
    "        Total_Data.append(features)\n",
    "\n",
    "    except Exception as e:\n",
    "        error = [name,e]\n",
    "        error_names.append(error)"
   ]
  },
  {
   "cell_type": "markdown",
   "id": "0d3f8005-3cac-473b-a0d8-5deb30f6a1cd",
   "metadata": {},
   "source": [
    "## Errors"
   ]
  },
  {
   "cell_type": "code",
   "execution_count": 63,
   "id": "a0a92266-fb00-4f62-8ee6-d83255b81d8c",
   "metadata": {},
   "outputs": [
    {
     "data": {
      "text/plain": [
       "[['1709619498294.jpg', ZeroDivisionError('division by zero')],\n",
       " ['1709620997717.jpg', ZeroDivisionError('division by zero')],\n",
       " ['1709627557684.jpg', ZeroDivisionError('division by zero')],\n",
       " ['1709628983297.jpg', ZeroDivisionError('division by zero')],\n",
       " ['1709640736974.jpg', ZeroDivisionError('division by zero')],\n",
       " ['1709792080268.jpg', ZeroDivisionError('division by zero')],\n",
       " ['1709793881980.jpg', ZeroDivisionError('division by zero')],\n",
       " ['1709795076038.jpg', ZeroDivisionError('division by zero')],\n",
       " ['1709795639474.jpg', ZeroDivisionError('division by zero')],\n",
       " ['1709796036555.jpg', ZeroDivisionError('division by zero')],\n",
       " ['1709799457005.jpg', ZeroDivisionError('division by zero')],\n",
       " ['1709799956552.jpg', ZeroDivisionError('division by zero')],\n",
       " ['1709809698893.jpg', ZeroDivisionError('division by zero')]]"
      ]
     },
     "execution_count": 63,
     "metadata": {},
     "output_type": "execute_result"
    }
   ],
   "source": [
    "error_names"
   ]
  },
  {
   "cell_type": "markdown",
   "id": "851d617d-c94b-4fb1-9631-9be7b1815f4e",
   "metadata": {},
   "source": [
    "## Saving Data"
   ]
  },
  {
   "cell_type": "code",
   "execution_count": 64,
   "id": "a09b71c2-15c4-4c1c-9c06-cda43c17d9dd",
   "metadata": {},
   "outputs": [],
   "source": [
    "cols = ['number','mean_r','mean_g','mean_b','mean_rg','HHR','Ent','B','G1','G2','G3','G4','G5','label']\n",
    "\n",
    "complete_data = pd.DataFrame(Total_Data,columns=cols)"
   ]
  },
  {
   "cell_type": "code",
   "execution_count": 65,
   "id": "ad57fa7e-03d6-48d6-9eca-0176b0baa44b",
   "metadata": {},
   "outputs": [],
   "source": [
    "# complete_data.to_csv('right_nail_data_new.csv',index = False)"
   ]
  },
  {
   "cell_type": "markdown",
   "id": "7765bb0c-c96f-4f04-bd19-65d36466f8f1",
   "metadata": {},
   "source": [
    "# Tongue Data"
   ]
  },
  {
   "cell_type": "code",
   "execution_count": 66,
   "id": "ce364092-a467-4bcf-9134-ad5371e38b12",
   "metadata": {},
   "outputs": [],
   "source": [
    "mask_tongue_files = glob.glob(\"../../Field Data/Individual Anatomy/Galaxy M34/Tongue_files/tongue_segmasks/SegmentationClass/*.png\")\n",
    "tongue_path = \"../../Field Data/Individual Anatomy/Galaxy M34/Tongue_files/Images_tongue\\\\\""
   ]
  },
  {
   "cell_type": "code",
   "execution_count": 67,
   "id": "34527a57-b0c4-40fb-a12d-021447dbc21d",
   "metadata": {},
   "outputs": [
    {
     "data": {
      "text/html": [
       "<div>\n",
       "<style scoped>\n",
       "    .dataframe tbody tr th:only-of-type {\n",
       "        vertical-align: middle;\n",
       "    }\n",
       "\n",
       "    .dataframe tbody tr th {\n",
       "        vertical-align: top;\n",
       "    }\n",
       "\n",
       "    .dataframe thead th {\n",
       "        text-align: right;\n",
       "    }\n",
       "</style>\n",
       "<table border=\"1\" class=\"dataframe\">\n",
       "  <thead>\n",
       "    <tr style=\"text-align: right;\">\n",
       "      <th></th>\n",
       "      <th>Annotated_Data</th>\n",
       "      <th>Avaiable ID</th>\n",
       "      <th>Hb Value</th>\n",
       "      <th>Unnamed: 3</th>\n",
       "      <th>Unnamed: 4</th>\n",
       "      <th>Unnamed: 5</th>\n",
       "      <th>Unnamed: 6</th>\n",
       "    </tr>\n",
       "  </thead>\n",
       "  <tbody>\n",
       "    <tr>\n",
       "      <th>0</th>\n",
       "      <td>1709617694248.jpg</td>\n",
       "      <td>202403051</td>\n",
       "      <td>11.5</td>\n",
       "      <td>NaN</td>\n",
       "      <td>NaN</td>\n",
       "      <td>NaN</td>\n",
       "      <td>NaN</td>\n",
       "    </tr>\n",
       "    <tr>\n",
       "      <th>1</th>\n",
       "      <td>1709617844626.jpg</td>\n",
       "      <td>202403052</td>\n",
       "      <td>11.6</td>\n",
       "      <td>NaN</td>\n",
       "      <td>NaN</td>\n",
       "      <td>Average</td>\n",
       "      <td>11.556711</td>\n",
       "    </tr>\n",
       "    <tr>\n",
       "      <th>2</th>\n",
       "      <td>1709619191362.jpg</td>\n",
       "      <td>202403056</td>\n",
       "      <td>11.1</td>\n",
       "      <td>NaN</td>\n",
       "      <td>NaN</td>\n",
       "      <td>NaN</td>\n",
       "      <td>NaN</td>\n",
       "    </tr>\n",
       "    <tr>\n",
       "      <th>3</th>\n",
       "      <td>1709619874657.jpg</td>\n",
       "      <td>202403058</td>\n",
       "      <td>12.1</td>\n",
       "      <td>NaN</td>\n",
       "      <td>NaN</td>\n",
       "      <td>NaN</td>\n",
       "      <td>NaN</td>\n",
       "    </tr>\n",
       "    <tr>\n",
       "      <th>4</th>\n",
       "      <td>1709620272757.jpg</td>\n",
       "      <td>202403059</td>\n",
       "      <td>12.2</td>\n",
       "      <td>NaN</td>\n",
       "      <td>NaN</td>\n",
       "      <td>NaN</td>\n",
       "      <td>NaN</td>\n",
       "    </tr>\n",
       "  </tbody>\n",
       "</table>\n",
       "</div>"
      ],
      "text/plain": [
       "      Annotated_Data  Avaiable ID  Hb Value  Unnamed: 3  Unnamed: 4  \\\n",
       "0  1709617694248.jpg    202403051      11.5         NaN         NaN   \n",
       "1  1709617844626.jpg    202403052      11.6         NaN         NaN   \n",
       "2  1709619191362.jpg    202403056      11.1         NaN         NaN   \n",
       "3  1709619874657.jpg    202403058      12.1         NaN         NaN   \n",
       "4  1709620272757.jpg    202403059      12.2         NaN         NaN   \n",
       "\n",
       "  Unnamed: 5  Unnamed: 6  \n",
       "0        NaN         NaN  \n",
       "1    Average   11.556711  \n",
       "2        NaN         NaN  \n",
       "3        NaN         NaN  \n",
       "4        NaN         NaN  "
      ]
     },
     "execution_count": 67,
     "metadata": {},
     "output_type": "execute_result"
    }
   ],
   "source": [
    "tongue_truth = pd.read_csv(\"annotations_tongue.csv\")\n",
    "tongue_truth.head(5)"
   ]
  },
  {
   "cell_type": "markdown",
   "id": "79f82e59-1765-4a8b-877e-989e9dfce883",
   "metadata": {},
   "source": [
    "## Dataset Creation"
   ]
  },
  {
   "cell_type": "code",
   "execution_count": 70,
   "id": "03c14b78-50a4-4fd1-b7d4-6a2a858772a7",
   "metadata": {},
   "outputs": [],
   "source": [
    "Total_Data = []\n",
    "error_names = []\n",
    "\n",
    "for mask_path in mask_tongue_files:\n",
    "    try:\n",
    "        name = mask_path.split(\"\\\\\")[-1].split(\".\")[0] + \".jpg\"\n",
    "        \n",
    "        mask_bgr = cv2.imread(mask_path)\n",
    "        img_bgr = cv2.imread(tongue_path + name)\n",
    "        mask = cv2.cvtColor(mask_bgr,cv2.COLOR_BGR2GRAY)\n",
    "        img = cv2.cvtColor(img_bgr,cv2.COLOR_BGR2RGB)\n",
    "    \n",
    "        roi = cv2.bitwise_and(img, img, mask = mask)\n",
    "    \n",
    "        uid = tongue_truth[tongue_truth['Annotated_Data'] == name][\"Avaiable ID\"].tolist()[0]\n",
    "    \n",
    "        label = tongue_truth[tongue_truth['Annotated_Data'] == name][\"Hb Value\"].tolist()[0]\n",
    "    \n",
    "        data_sent = [uid,roi,label]\n",
    "    \n",
    "        features = feature(data_sent)\n",
    "    \n",
    "        Total_Data.append(features)\n",
    "\n",
    "    except Exception as e:\n",
    "        error = [name,e]\n",
    "        error_names.append(error)"
   ]
  },
  {
   "cell_type": "markdown",
   "id": "f16aed1c-508c-4f56-98ba-00b9e278d555",
   "metadata": {},
   "source": [
    "## Errors"
   ]
  },
  {
   "cell_type": "code",
   "execution_count": 71,
   "id": "076cf758-be0a-4ce7-9cd8-aeddcb22e1d2",
   "metadata": {},
   "outputs": [
    {
     "data": {
      "text/plain": [
       "[]"
      ]
     },
     "execution_count": 71,
     "metadata": {},
     "output_type": "execute_result"
    }
   ],
   "source": [
    "error_names"
   ]
  },
  {
   "cell_type": "markdown",
   "id": "a4b1075e-e29d-4012-aa30-48461dc1d197",
   "metadata": {},
   "source": [
    "## Saving Data"
   ]
  },
  {
   "cell_type": "code",
   "execution_count": 72,
   "id": "a88f9bf2-a539-4ab9-b56a-71419be8276c",
   "metadata": {},
   "outputs": [],
   "source": [
    "cols = ['number','mean_r','mean_g','mean_b','mean_rg','HHR','Ent','B','G1','G2','G3','G4','G5','label']\n",
    "\n",
    "complete_data = pd.DataFrame(Total_Data,columns=cols)"
   ]
  },
  {
   "cell_type": "code",
   "execution_count": 73,
   "id": "51401fd4-e790-4dc4-80fd-212d886e0450",
   "metadata": {},
   "outputs": [],
   "source": [
    "# complete_data.to_csv('tongue_data_new.csv',index = False)"
   ]
  },
  {
   "cell_type": "markdown",
   "id": "5412f264-0d4d-41a4-a4ba-2303f77c4c7e",
   "metadata": {},
   "source": [
    "# Left Palm Data"
   ]
  },
  {
   "cell_type": "code",
   "execution_count": 74,
   "id": "4ed17e57-e7b2-49a7-8fdf-b244ed30699a",
   "metadata": {},
   "outputs": [],
   "source": [
    "mask_left_palm_files = glob.glob(\"../../Field Data/Individual Anatomy/Galaxy M34/Left Palm_files/left_palm_segmasks/SegmentationClass/*.png\")\n",
    "left_palm_path = \"../../Field Data/Individual Anatomy/Galaxy M34/Left Palm_files/Images_left_palm\\\\\""
   ]
  },
  {
   "cell_type": "code",
   "execution_count": 75,
   "id": "9bdcaa67-557a-40b5-9a79-ee7dc376cdb0",
   "metadata": {},
   "outputs": [
    {
     "data": {
      "text/html": [
       "<div>\n",
       "<style scoped>\n",
       "    .dataframe tbody tr th:only-of-type {\n",
       "        vertical-align: middle;\n",
       "    }\n",
       "\n",
       "    .dataframe tbody tr th {\n",
       "        vertical-align: top;\n",
       "    }\n",
       "\n",
       "    .dataframe thead th {\n",
       "        text-align: right;\n",
       "    }\n",
       "</style>\n",
       "<table border=\"1\" class=\"dataframe\">\n",
       "  <thead>\n",
       "    <tr style=\"text-align: right;\">\n",
       "      <th></th>\n",
       "      <th>Annotated_Data</th>\n",
       "      <th>Avaiable ID</th>\n",
       "      <th>Hb Value</th>\n",
       "      <th>Unnamed: 3</th>\n",
       "      <th>Unnamed: 4</th>\n",
       "      <th>Unnamed: 5</th>\n",
       "      <th>Unnamed: 6</th>\n",
       "    </tr>\n",
       "  </thead>\n",
       "  <tbody>\n",
       "    <tr>\n",
       "      <th>0</th>\n",
       "      <td>1709617238375.jpg</td>\n",
       "      <td>202403051</td>\n",
       "      <td>11.5</td>\n",
       "      <td>NaN</td>\n",
       "      <td>NaN</td>\n",
       "      <td>Average</td>\n",
       "      <td>11.53193</td>\n",
       "    </tr>\n",
       "    <tr>\n",
       "      <th>1</th>\n",
       "      <td>1709617534838.jpg</td>\n",
       "      <td>202403052</td>\n",
       "      <td>11.6</td>\n",
       "      <td>NaN</td>\n",
       "      <td>NaN</td>\n",
       "      <td>NaN</td>\n",
       "      <td>NaN</td>\n",
       "    </tr>\n",
       "    <tr>\n",
       "      <th>2</th>\n",
       "      <td>1709618528581.jpg</td>\n",
       "      <td>202403056</td>\n",
       "      <td>11.1</td>\n",
       "      <td>NaN</td>\n",
       "      <td>NaN</td>\n",
       "      <td>NaN</td>\n",
       "      <td>NaN</td>\n",
       "    </tr>\n",
       "    <tr>\n",
       "      <th>3</th>\n",
       "      <td>1709619358067.jpg</td>\n",
       "      <td>202403058</td>\n",
       "      <td>12.1</td>\n",
       "      <td>NaN</td>\n",
       "      <td>NaN</td>\n",
       "      <td>NaN</td>\n",
       "      <td>NaN</td>\n",
       "    </tr>\n",
       "    <tr>\n",
       "      <th>4</th>\n",
       "      <td>1709619811692.jpg</td>\n",
       "      <td>202403059</td>\n",
       "      <td>12.2</td>\n",
       "      <td>NaN</td>\n",
       "      <td>NaN</td>\n",
       "      <td>NaN</td>\n",
       "      <td>NaN</td>\n",
       "    </tr>\n",
       "  </tbody>\n",
       "</table>\n",
       "</div>"
      ],
      "text/plain": [
       "      Annotated_Data  Avaiable ID  Hb Value  Unnamed: 3  Unnamed: 4  \\\n",
       "0  1709617238375.jpg    202403051      11.5         NaN         NaN   \n",
       "1  1709617534838.jpg    202403052      11.6         NaN         NaN   \n",
       "2  1709618528581.jpg    202403056      11.1         NaN         NaN   \n",
       "3  1709619358067.jpg    202403058      12.1         NaN         NaN   \n",
       "4  1709619811692.jpg    202403059      12.2         NaN         NaN   \n",
       "\n",
       "  Unnamed: 5  Unnamed: 6  \n",
       "0    Average    11.53193  \n",
       "1        NaN         NaN  \n",
       "2        NaN         NaN  \n",
       "3        NaN         NaN  \n",
       "4        NaN         NaN  "
      ]
     },
     "execution_count": 75,
     "metadata": {},
     "output_type": "execute_result"
    }
   ],
   "source": [
    "left_palm_truth = pd.read_csv(\"annotations_left_palm.csv\")\n",
    "left_palm_truth.head(5)"
   ]
  },
  {
   "cell_type": "markdown",
   "id": "6ed2c91c-eec0-4dc1-8522-390378521dde",
   "metadata": {},
   "source": [
    "## Dataset Creation"
   ]
  },
  {
   "cell_type": "code",
   "execution_count": 76,
   "id": "1547657f-9401-441f-a526-16bad0430a8b",
   "metadata": {},
   "outputs": [],
   "source": [
    "Total_Data = []\n",
    "error_names = []\n",
    "\n",
    "for mask_path in mask_left_palm_files:\n",
    "    try:        \n",
    "        name = mask_path.split(\"\\\\\")[-1].split(\".\")[0] + \".jpg\"\n",
    "        \n",
    "        mask_bgr = cv2.imread(mask_path)\n",
    "        img_bgr = cv2.imread(left_palm_path + name)\n",
    "        mask = cv2.cvtColor(mask_bgr,cv2.COLOR_BGR2GRAY)\n",
    "        img = cv2.cvtColor(img_bgr,cv2.COLOR_BGR2RGB)\n",
    "    \n",
    "        roi = cv2.bitwise_and(img, img, mask = mask)\n",
    "    \n",
    "        uid = left_palm_truth[left_palm_truth['Annotated_Data'] == name][\"Avaiable ID\"].tolist()[0]\n",
    "    \n",
    "        label = left_palm_truth[left_palm_truth['Annotated_Data'] == name][\"Hb Value\"].tolist()[0]\n",
    "    \n",
    "        data_sent = [uid,roi,label]\n",
    "    \n",
    "        features = feature(data_sent)\n",
    "    \n",
    "        Total_Data.append(features)\n",
    "    \n",
    "    except Exception as e:\n",
    "        error = [name,e]\n",
    "        error_names.append(error)"
   ]
  },
  {
   "cell_type": "markdown",
   "id": "42d5f45d-f4ab-49af-9272-c8b129a1b108",
   "metadata": {},
   "source": [
    "## Errors"
   ]
  },
  {
   "cell_type": "code",
   "execution_count": 77,
   "id": "fef82d6c-22d7-44e1-a052-d6e935785954",
   "metadata": {},
   "outputs": [
    {
     "data": {
      "text/plain": [
       "[['1709620330090.jpg', ZeroDivisionError('division by zero')],\n",
       " ['1709622111640.jpg', ZeroDivisionError('division by zero')],\n",
       " ['1709637220943.jpg', ZeroDivisionError('division by zero')],\n",
       " ['1709723476667.jpg', ZeroDivisionError('division by zero')],\n",
       " ['1709795520401.jpg', ZeroDivisionError('division by zero')]]"
      ]
     },
     "execution_count": 77,
     "metadata": {},
     "output_type": "execute_result"
    }
   ],
   "source": [
    "error_names"
   ]
  },
  {
   "cell_type": "markdown",
   "id": "39455b40-76ab-4439-aa16-b5aa4e6ce279",
   "metadata": {},
   "source": [
    "## Saving Data"
   ]
  },
  {
   "cell_type": "code",
   "execution_count": 78,
   "id": "f2aeb535-ce75-4a17-9ebb-6028eab4a269",
   "metadata": {},
   "outputs": [],
   "source": [
    "cols = ['number','mean_r','mean_g','mean_b','mean_rg','HHR','Ent','B','G1','G2','G3','G4','G5','label']\n",
    "\n",
    "complete_data = pd.DataFrame(Total_Data,columns=cols)"
   ]
  },
  {
   "cell_type": "code",
   "execution_count": 79,
   "id": "d0542efb-bf45-4240-b73a-f313cf669c9e",
   "metadata": {},
   "outputs": [],
   "source": [
    "# complete_data.to_csv('left_palm_data_new.csv',index = False)"
   ]
  },
  {
   "cell_type": "markdown",
   "id": "56ae35f9-91d7-4521-845c-e036cd248c5f",
   "metadata": {},
   "source": [
    "# Error Data Check"
   ]
  },
  {
   "cell_type": "code",
   "execution_count": 46,
   "id": "8e3a3118-861f-439b-9243-0c1206e43b8d",
   "metadata": {},
   "outputs": [],
   "source": [
    "mask = cv2.imread(\"../../Field Data/Individual Anatomy/Galaxy M34/Right Fingernail_files/right_nail_segmask/SegmentationClass/1709619498294.png\")\n",
    "img = cv2.imread(\"../../Field Data/Individual Anatomy/Galaxy M34/Right Fingernail_files/Images_right_fingernail\\\\1709619498294.jpg\")"
   ]
  },
  {
   "cell_type": "code",
   "execution_count": 47,
   "id": "00a4fd51-b7be-484f-9c8b-5f2fd390aaed",
   "metadata": {},
   "outputs": [],
   "source": [
    "mask = cv2.cvtColor(mask,cv2.COLOR_BGR2GRAY)\n",
    "img = cv2.cvtColor(img,cv2.COLOR_BGR2RGB)"
   ]
  },
  {
   "cell_type": "code",
   "execution_count": 48,
   "id": "6b5478c4-358e-4d4e-86a3-cbc7481d0bd0",
   "metadata": {},
   "outputs": [],
   "source": [
    "roi = cv2.bitwise_and(img, img, mask = mask)"
   ]
  },
  {
   "cell_type": "code",
   "execution_count": 49,
   "id": "199c7aab-e47b-45ce-b190-78135802cd91",
   "metadata": {},
   "outputs": [
    {
     "data": {
      "text/plain": [
       "<matplotlib.image.AxesImage at 0x27890d6e4d0>"
      ]
     },
     "execution_count": 49,
     "metadata": {},
     "output_type": "execute_result"
    },
    {
     "data": {
      "image/png": "[encoded data removed]",
      "text/plain": [
       "<Figure size 640x480 with 1 Axes>"
      ]
     },
     "metadata": {},
     "output_type": "display_data"
    }
   ],
   "source": [
    "plt.imshow(roi)"
   ]
  },
  {
   "cell_type": "code",
   "execution_count": 51,
   "id": "50c6ca5e-269c-4001-b8f2-d7d0a5806700",
   "metadata": {},
   "outputs": [],
   "source": [
    "roi = resize(roi,(250,250))"
   ]
  },
  {
   "cell_type": "code",
   "execution_count": 53,
   "id": "6463413d-7578-48bd-af67-95d03d714af9",
   "metadata": {},
   "outputs": [
    {
     "ename": "ZeroDivisionError",
     "evalue": "division by zero",
     "output_type": "error",
     "traceback": [
      "\u001b[1;31m---------------------------------------------------------------------------\u001b[0m",
      "\u001b[1;31mZeroDivisionError\u001b[0m                         Traceback (most recent call last)",
      "Cell \u001b[1;32mIn[53], line 7\u001b[0m\n\u001b[0;32m      5\u001b[0m h \u001b[38;5;241m=\u001b[39m h\u001b[38;5;241m/\u001b[39mh\u001b[38;5;241m.\u001b[39mmax()\n\u001b[0;32m      6\u001b[0m nH \u001b[38;5;241m=\u001b[39m np\u001b[38;5;241m.\u001b[39mcount_nonzero(h\u001b[38;5;241m>\u001b[39m\u001b[38;5;241m0.95\u001b[39m)\n\u001b[1;32m----> 7\u001b[0m HHR \u001b[38;5;241m=\u001b[39m nH\u001b[38;5;241m/\u001b[39mh_counts\n",
      "\u001b[1;31mZeroDivisionError\u001b[0m: division by zero"
     ]
    }
   ],
   "source": [
    "#HSV SPACE\n",
    "hsv = to_hsv(roi)\n",
    "h,s,v = cv2.split(hsv)\n",
    "_,h_counts = sum(h)\n",
    "h = h/h.max()\n",
    "nH = np.count_nonzero(h>0.95)\n",
    "HHR = nH/h_counts\n",
    "# HHR found"
   ]
  },
  {
   "cell_type": "code",
   "execution_count": 56,
   "id": "d62cd18a-585b-49ca-a761-3bd47db7bde6",
   "metadata": {},
   "outputs": [
    {
     "data": {
      "text/plain": [
       "<matplotlib.image.AxesImage at 0x2788e6b9390>"
      ]
     },
     "execution_count": 56,
     "metadata": {},
     "output_type": "execute_result"
    },
    {
     "data": {
      "image/png": "[encoded data removed]",
      "text/plain": [
       "<Figure size 640x480 with 1 Axes>"
      ]
     },
     "metadata": {},
     "output_type": "display_data"
    }
   ],
   "source": [
    "h,s,v = cv2.split(hsv)\n",
    "plt.imshow(h)"
   ]
  },
  {
   "cell_type": "code",
   "execution_count": 61,
   "id": "5f5c71ad-46c4-4143-91c4-471614420d82",
   "metadata": {},
   "outputs": [
    {
     "data": {
      "text/plain": [
       "array([ 0,  1,  2,  3,  4,  5,  6,  7,  8, 10], dtype=uint8)"
      ]
     },
     "execution_count": 61,
     "metadata": {},
     "output_type": "execute_result"
    }
   ],
   "source": [
    "np.unique(h)"
   ]
  },
  {
   "cell_type": "code",
   "execution_count": null,
   "id": "dfbf5e3c-08ae-4399-8e27-90d0e4412643",
   "metadata": {},
   "outputs": [],
   "source": []
  }
 ],
 "metadata": {
  "kernelspec": {
   "display_name": "Python 3 (ipykernel)",
   "language": "python",
   "name": "python3"
  },
  "language_info": {
   "codemirror_mode": {
    "name": "ipython",
    "version": 3
   },
   "file_extension": ".py",
   "mimetype": "text/x-python",
   "name": "python",
   "nbconvert_exporter": "python",
   "pygments_lexer": "ipython3",
   "version": "3.11.8"
  }
 },
 "nbformat": 4,
 "nbformat_minor": 5
}
