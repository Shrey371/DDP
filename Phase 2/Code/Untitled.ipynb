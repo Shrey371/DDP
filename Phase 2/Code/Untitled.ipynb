{
 "cells": [
  {
   "cell_type": "code",
   "execution_count": 1,
   "id": "ad35d9a1-98d5-466c-a332-f772d0a3359b",
   "metadata": {},
   "outputs": [],
   "source": [
    "import warnings\n",
    "warnings.filterwarnings('ignore')\n",
    "\n",
    "import pandas as pd\n",
    "import numpy as np\n",
    "from PIL import Image, ImageFile\n",
    "ImageFile.LOAD_TRUNCATED_IMAGES = True\n",
    "\n",
    "import os\n",
    "import glob\n",
    "import matplotlib.pyplot as plt\n",
    "import math\n",
    "import cv2\n",
    "\n",
    "\n",
    "%matplotlib inline"
   ]
  },
  {
   "cell_type": "code",
   "execution_count": 2,
   "id": "f56eeea7-fbde-43cf-9c18-86ebcca3a3f6",
   "metadata": {},
   "outputs": [],
   "source": [
    "def sum_rgb(img):\n",
    "    r_sum = g_sum = b_sum = rg_sum = count = 0\n",
    "    for i in img:\n",
    "        for j in i:\n",
    "            if (j[0] > 20 and j[0] < 240 and j[1] > 20 and j[1] < 240 and j[2] > 20 and j[2] < 240):\n",
    "                r_sum += j[0]\n",
    "                g_sum += j[1]\n",
    "                b_sum += j[2]\n",
    "                rg_sum += j[0] - j[1]\n",
    "                count += 1\n",
    "\n",
    "    return [r_sum,g_sum,b_sum,rg_sum,count]"
   ]
  },
  {
   "cell_type": "code",
   "execution_count": 3,
   "id": "2140c7f7-9bda-420c-93e1-9bc2dc1b34cb",
   "metadata": {},
   "outputs": [],
   "source": [
    "img = cv2.imread(\"try.png\")\n",
    "img = cv2.cvtColor(img,cv2.COLOR_BGR2RGB)"
   ]
  },
  {
   "cell_type": "code",
   "execution_count": 4,
   "id": "1a580a90-3779-4f4e-9304-2ce58c35683e",
   "metadata": {},
   "outputs": [],
   "source": [
    "sum_img = sum_rgb(img)\n",
    "count = sum_img.pop()\n",
    "mean_features = [i/count for i in sum_img]\n",
    "mean_r,mean_g,mean_b,mean_rg = mean_features"
   ]
  },
  {
   "cell_type": "code",
   "execution_count": 5,
   "id": "848635fb-99bd-4b1f-9f27-9a48fdc11b1c",
   "metadata": {},
   "outputs": [
    {
     "data": {
      "text/plain": [
       "[155.56531271410395, 71.08579817950475, 75.53289615346971, 84.4795145345992]"
      ]
     },
     "execution_count": 5,
     "metadata": {},
     "output_type": "execute_result"
    }
   ],
   "source": [
    "mean_features"
   ]
  },
  {
   "cell_type": "code",
   "execution_count": 7,
   "id": "b399f67f-3e08-4602-9ba3-e29c3af0526f",
   "metadata": {},
   "outputs": [
    {
     "data": {
      "text/plain": [
       "51085"
      ]
     },
     "execution_count": 7,
     "metadata": {},
     "output_type": "execute_result"
    }
   ],
   "source": [
    "count"
   ]
  },
  {
   "cell_type": "code",
   "execution_count": 8,
   "id": "cc05fe52-82bb-49e6-bac8-902468c8e71d",
   "metadata": {},
   "outputs": [
    {
     "data": {
      "text/plain": [
       "(503, 507, 3)"
      ]
     },
     "execution_count": 8,
     "metadata": {},
     "output_type": "execute_result"
    }
   ],
   "source": [
    "img.shape"
   ]
  },
  {
   "cell_type": "code",
   "execution_count": null,
   "id": "eb61a52f-a96d-46d4-8dcb-dee767ec1ebc",
   "metadata": {},
   "outputs": [],
   "source": []
  }
 ],
 "metadata": {
  "kernelspec": {
   "display_name": "Python 3 (ipykernel)",
   "language": "python",
   "name": "python3"
  },
  "language_info": {
   "codemirror_mode": {
    "name": "ipython",
    "version": 3
   },
   "file_extension": ".py",
   "mimetype": "text/x-python",
   "name": "python",
   "nbconvert_exporter": "python",
   "pygments_lexer": "ipython3",
   "version": "3.11.8"
  }
 },
 "nbformat": 4,
 "nbformat_minor": 5
}
